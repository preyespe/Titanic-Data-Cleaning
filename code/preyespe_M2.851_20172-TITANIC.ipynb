{
 "cells": [
  {
   "cell_type": "markdown",
   "metadata": {},
   "source": [
    "<div style=\"width: 100%; clear: both;\">\n",
    "<div style=\"float: left; width: 50%;\"><img style=\"float: left;\" src=\"http://www.uoc.edu/portal/_resources/common/imatges/marca_UOC/UOC_Masterbrand.jpg\" width=\"257\" height=\"85\" align=\"left\" /></div>\n",
    "<div style=\"float: right; width: 50%; text-align: right;\">M2.851 &middot; Tipologia y Ciclo de vida de los Datos &middot; <br />M&aacute;ster Universitario en Ciencia de Datos (Data Science) Estudios de Inform&aacute;tica, Multimedia y Telecomunicaci&oacute;n</div>\n",
    "<div style=\"float: right; width: 50%;\">&nbsp;</div>\n",
    "<div style=\"width: 100%; clear: both;\"><strong>ALUMNA:</strong> PATRICIA REYES SILVA</div>\n",
    "<div style=\"width: 100%; clear: both;\"><strong>GITHUB:</strong>&nbsp;https://github.com/preyespe/Titanic-Data-Cleaning</div>\n",
    "<div style=\"width: 100%; clear: both;\"><hr /></div>\n",
    "</div>\n",
    "\n",
    "\n",
    "# PAC 2: LIMPIEZA Y VALIDACION DE LOS DATOS\n",
    "\n",
    "<p style=\"text-align: justify;\">En esta pr&aacute;ctica realizaremos la limpieza y validaci&oacute;n de datos del dataset [TITANIC](https://www.kaggle.com/c/titanic/data) y posteriormente aplicaremos un algoritmo de clasificaci&oacute;n que nos permitir&aacute; predecir la precisi&oacute;n para la sobrevivencia.</p>\n",
    "<p style=\"text-align: justify;\">El contenido a desarrollar es el siguiente:</p>\n",
    "<ol start=\"0\">\n",
    "<li>Carga de datos</li>\n",
    "<li>Descripci&oacute;n del dataset</li>\n",
    "<li>Integraci&oacute;n y selecci&oacute;n de los datos de inter&eacute;s a analizar</li>\n",
    "<li>Limpieza de los datos<br />3.1. Gesti&oacute;n de ceros o elementos vacios<br />3.2.&nbsp;Creación de nuevas variables<br />3.3.&nbsp;Identificaci&oacute;n y tratamiento de valores extremos | Transformación de datos</li>\n",
    "<li>An&aacute;lisis de los datos<br /> 4.1. Selección de los grupos de datos que se quieren analizar/comparar (planificación de los análisis a aplicar).<br /> 4.2. Comprobaci&oacute;n de la normalidad y homogeneidad de la varianza<br /> 4.3. Aplicaci&oacute;n de pruebas estad&iacute;sticas para comparar los grupos de datos</li>\n",
    "<li>Representaci&oacute;n de los resultados a partir de tablas y gr&aacute;ficas</li>\n",
    "<li>Conclusiones.</li>\n",
    "</ol>\n"
   ]
  },
  {
   "cell_type": "markdown",
   "metadata": {},
   "source": [
    "## 0. Carga de datos\n",
    "\n",
    "<p>Los datos contenidos en el dataset *TITANIC* se han dividido en dos grupos:</p>\n",
    "<ul>\n",
    "<li>Un conjunto de entrenamiento (train.csv)</li>\n",
    "<li>Un conjunto de prueba (test.csv)</li>\n",
    "</ul>\n",
    "<p style=\"text-align: justify;\">El siguiente c&oacute;digo cargar&aacute; las datos de entrenamiento&nbsp;\"train\" conteniendo 891 regsitros y otros&nbsp; 418 registros en nuestro conjunto de \"test\".&nbsp; Podemos comprobar que la carga ha sido correcta, al visualizar los primeros 5 registros del dataset \"train\".</p>"
   ]
  },
  {
   "cell_type": "code",
   "execution_count": 230,
   "metadata": {},
   "outputs": [
    {
     "data": {
      "text/html": [
       "<div>\n",
       "<style scoped>\n",
       "    .dataframe tbody tr th:only-of-type {\n",
       "        vertical-align: middle;\n",
       "    }\n",
       "\n",
       "    .dataframe tbody tr th {\n",
       "        vertical-align: top;\n",
       "    }\n",
       "\n",
       "    .dataframe thead th {\n",
       "        text-align: right;\n",
       "    }\n",
       "</style>\n",
       "<table border=\"1\" class=\"dataframe\">\n",
       "  <thead>\n",
       "    <tr style=\"text-align: right;\">\n",
       "      <th></th>\n",
       "      <th>PassengerId</th>\n",
       "      <th>Survived</th>\n",
       "      <th>Pclass</th>\n",
       "      <th>Name</th>\n",
       "      <th>Sex</th>\n",
       "      <th>Age</th>\n",
       "      <th>SibSp</th>\n",
       "      <th>Parch</th>\n",
       "      <th>Ticket</th>\n",
       "      <th>Fare</th>\n",
       "      <th>Cabin</th>\n",
       "      <th>Embarked</th>\n",
       "    </tr>\n",
       "  </thead>\n",
       "  <tbody>\n",
       "    <tr>\n",
       "      <th>0</th>\n",
       "      <td>1</td>\n",
       "      <td>0</td>\n",
       "      <td>3</td>\n",
       "      <td>Braund, Mr. Owen Harris</td>\n",
       "      <td>male</td>\n",
       "      <td>22.0</td>\n",
       "      <td>1</td>\n",
       "      <td>0</td>\n",
       "      <td>A/5 21171</td>\n",
       "      <td>7.2500</td>\n",
       "      <td>NaN</td>\n",
       "      <td>S</td>\n",
       "    </tr>\n",
       "    <tr>\n",
       "      <th>1</th>\n",
       "      <td>2</td>\n",
       "      <td>1</td>\n",
       "      <td>1</td>\n",
       "      <td>Cumings, Mrs. John Bradley (Florence Briggs Th...</td>\n",
       "      <td>female</td>\n",
       "      <td>38.0</td>\n",
       "      <td>1</td>\n",
       "      <td>0</td>\n",
       "      <td>PC 17599</td>\n",
       "      <td>71.2833</td>\n",
       "      <td>C85</td>\n",
       "      <td>C</td>\n",
       "    </tr>\n",
       "    <tr>\n",
       "      <th>2</th>\n",
       "      <td>3</td>\n",
       "      <td>1</td>\n",
       "      <td>3</td>\n",
       "      <td>Heikkinen, Miss. Laina</td>\n",
       "      <td>female</td>\n",
       "      <td>26.0</td>\n",
       "      <td>0</td>\n",
       "      <td>0</td>\n",
       "      <td>STON/O2. 3101282</td>\n",
       "      <td>7.9250</td>\n",
       "      <td>NaN</td>\n",
       "      <td>S</td>\n",
       "    </tr>\n",
       "    <tr>\n",
       "      <th>3</th>\n",
       "      <td>4</td>\n",
       "      <td>1</td>\n",
       "      <td>1</td>\n",
       "      <td>Futrelle, Mrs. Jacques Heath (Lily May Peel)</td>\n",
       "      <td>female</td>\n",
       "      <td>35.0</td>\n",
       "      <td>1</td>\n",
       "      <td>0</td>\n",
       "      <td>113803</td>\n",
       "      <td>53.1000</td>\n",
       "      <td>C123</td>\n",
       "      <td>S</td>\n",
       "    </tr>\n",
       "    <tr>\n",
       "      <th>4</th>\n",
       "      <td>5</td>\n",
       "      <td>0</td>\n",
       "      <td>3</td>\n",
       "      <td>Allen, Mr. William Henry</td>\n",
       "      <td>male</td>\n",
       "      <td>35.0</td>\n",
       "      <td>0</td>\n",
       "      <td>0</td>\n",
       "      <td>373450</td>\n",
       "      <td>8.0500</td>\n",
       "      <td>NaN</td>\n",
       "      <td>S</td>\n",
       "    </tr>\n",
       "  </tbody>\n",
       "</table>\n",
       "</div>"
      ],
      "text/plain": [
       "   PassengerId  Survived  Pclass  \\\n",
       "0            1         0       3   \n",
       "1            2         1       1   \n",
       "2            3         1       3   \n",
       "3            4         1       1   \n",
       "4            5         0       3   \n",
       "\n",
       "                                                Name     Sex   Age  SibSp  \\\n",
       "0                            Braund, Mr. Owen Harris    male  22.0      1   \n",
       "1  Cumings, Mrs. John Bradley (Florence Briggs Th...  female  38.0      1   \n",
       "2                             Heikkinen, Miss. Laina  female  26.0      0   \n",
       "3       Futrelle, Mrs. Jacques Heath (Lily May Peel)  female  35.0      1   \n",
       "4                           Allen, Mr. William Henry    male  35.0      0   \n",
       "\n",
       "   Parch            Ticket     Fare Cabin Embarked  \n",
       "0      0         A/5 21171   7.2500   NaN        S  \n",
       "1      0          PC 17599  71.2833   C85        C  \n",
       "2      0  STON/O2. 3101282   7.9250   NaN        S  \n",
       "3      0            113803  53.1000  C123        S  \n",
       "4      0            373450   8.0500   NaN        S  "
      ]
     },
     "execution_count": 230,
     "metadata": {},
     "output_type": "execute_result"
    }
   ],
   "source": [
    "import pandas as pd\n",
    "import numpy as np\n",
    "import matplotlib.pyplot as plt\n",
    "%matplotlib inline\n",
    "\n",
    "# Carga de los datos de entrenamiento y test\n",
    "train = pd.read_csv('../data/input/train.csv')\n",
    "test = pd.read_csv('../data/input/test.csv')\n",
    "\n",
    "# Visualizamos las 5 primeras filas del dataset de entrenamiento\n",
    "train.head(5)"
   ]
  },
  {
   "cell_type": "markdown",
   "metadata": {},
   "source": [
    "# 1. Descripción del dataset"
   ]
  },
  {
   "cell_type": "markdown",
   "metadata": {},
   "source": [
    "<p style=\"text-align: justify;\">El hundimiento del RMS Titanic es uno de los naufragios m&aacute;s infames de la historia. El 15 de abril de 1912, durante su viaje inaugural, el Titanic se hundi&oacute; despu&eacute;s de colisionar con un iceberg, matando a 1502 de 2224 pasajeros y tripulantes. Esta sensacional tragedia conmocion&oacute; a la comunidad internacional y condujo a mejores regulaciones de seguridad para los buques. Una de las razones por las que el naufragio provoc&oacute; tal p&eacute;rdida de vidas fue que no hab&iacute;a suficientes botes salvavidas para los pasajeros y la tripulaci&oacute;n. Aunque hubo alg&uacute;n elemento de suerte involucrado en sobrevivir al hundimiento, algunos grupos de personas ten&iacute;an m&aacute;s probabilidades de sobrevivir que otros, como las mujeres, los ni&ntilde;os y la clase alta.[<a href=\"https://www.kaggle.com/c/titanic\" rel=\"nofollow\">KAGGLE</a>]</p>\n",
    "\n",
    "<p style=\"text-align: justify;\">El conjunto de datos objeto de an&aacute;lisis se ha obtenido desde el sitio Kaggle y est&aacute; constituido por 12 caracter&iacute;sticas (columnas) que presentan 1309 pasajeros (filas o registros).&nbsp; A su vez, este dataset se encuentra dividido en dos subdatasets, el primero para entrenamiento, llamado \"train\" con 891 pasajeros y el segundo para pruebas, llamado \"test\" con 481 pasajeros.</p>\n",
    "<p style=\"text-align: justify;\">Entre los campos de este conjunto de datos, encontramos los siguientes:</p>\n",
    "\n",
    "<table style=\"height: 705px;\" border=\"#C00\" width=\"556\">\n",
    "<tbody>\n",
    "<tr style=\"height: 45px;\">\n",
    "<td style=\"height: 45px; width: 46px;\">\n",
    "<p><strong>Nro. Item</strong></p>\n",
    "</td>\n",
    "<td style=\"height: 45px; width: 99.3333px;\">\n",
    "<p><strong>Variable</strong></p>\n",
    "</td>\n",
    "<td style=\"height: 45px; width: 389.333px;\">\n",
    "<p><strong>Descripci&oacute;n</strong></p>\n",
    "</td>\n",
    "</tr>\n",
    "<tr style=\"height: 32.3333px;\">\n",
    "<td style=\"height: 32.3333px; width: 46px;\">\n",
    "<p>1</p>\n",
    "</td>\n",
    "<td style=\"height: 32.3333px; width: 99.3333px;\">\n",
    "<p>PassengerId</p>\n",
    "</td>\n",
    "<td style=\"height: 32.3333px; width: 389.333px;\">\n",
    "<p>Passenger ID</p>\n",
    "</td>\n",
    "</tr>\n",
    "<tr style=\"height: 45px;\">\n",
    "<td style=\"height: 45px; width: 46px;\">\n",
    "<p>2</p>\n",
    "</td>\n",
    "<td style=\"height: 45px; width: 99.3333px;\">\n",
    "<p>Survived</p>\n",
    "</td>\n",
    "<td style=\"height: 45px; width: 389.333px;\">\n",
    "<p>Survived (0 = No; 1 = Yes)</p>\n",
    "</td>\n",
    "</tr>\n",
    "<tr style=\"height: 45px;\">\n",
    "<td style=\"height: 45px; width: 46px;\">\n",
    "<p>3</p>\n",
    "</td>\n",
    "<td style=\"height: 45px; width: 99.3333px;\">\n",
    "<p>Pclass</p>\n",
    "</td>\n",
    "<td style=\"height: 45px; width: 389.333px;\">\n",
    "<p>Passenger Class (1 = 1st; 2 = 2nd; 3 = 3rd)</p>\n",
    "</td>\n",
    "</tr>\n",
    "<tr style=\"height: 45px;\">\n",
    "<td style=\"height: 45px; width: 46px;\">\n",
    "<p>4</p>\n",
    "</td>\n",
    "<td style=\"height: 45px; width: 99.3333px;\">\n",
    "<p>Name</p>\n",
    "</td>\n",
    "<td style=\"height: 45px; width: 389.333px;\">\n",
    "<p>Name</p>\n",
    "</td>\n",
    "</tr>\n",
    "<tr style=\"height: 45px;\">\n",
    "<td style=\"height: 45px; width: 46px;\">\n",
    "<p>5</p>\n",
    "</td>\n",
    "<td style=\"height: 45px; width: 99.3333px;\">\n",
    "<p>Sex</p>\n",
    "</td>\n",
    "<td style=\"height: 45px; width: 389.333px;\">\n",
    "<p>Sex</p>\n",
    "</td>\n",
    "</tr>\n",
    "<tr style=\"height: 45px;\">\n",
    "<td style=\"height: 45px; width: 46px;\">\n",
    "<p>6</p>\n",
    "</td>\n",
    "<td style=\"height: 45px; width: 99.3333px;\">\n",
    "<p>Age</p>\n",
    "</td>\n",
    "<td style=\"height: 45px; width: 389.333px;\">\n",
    "<p>Age</p>\n",
    "</td>\n",
    "</tr>\n",
    "<tr style=\"height: 45px;\">\n",
    "<td style=\"height: 45px; width: 46px;\">\n",
    "<p>7</p>\n",
    "</td>\n",
    "<td style=\"height: 45px; width: 99.3333px;\">\n",
    "<p>Sibsp</p>\n",
    "</td>\n",
    "<td style=\"height: 45px; width: 389.333px;\">\n",
    "<p>Number of Siblings/Spouses Aboard</p>\n",
    "</td>\n",
    "</tr>\n",
    "<tr style=\"height: 45px;\">\n",
    "<td style=\"height: 45px; width: 46px;\">\n",
    "<p>8</p>\n",
    "</td>\n",
    "<td style=\"height: 45px; width: 99.3333px;\">\n",
    "<p>Parch</p>\n",
    "</td>\n",
    "<td style=\"height: 45px; width: 389.333px;\">\n",
    "<p>Number of Parents/Children Aboard</p>\n",
    "</td>\n",
    "</tr>\n",
    "<tr style=\"height: 45px;\">\n",
    "<td style=\"height: 45px; width: 46px;\">\n",
    "<p>9</p>\n",
    "</td>\n",
    "<td style=\"height: 45px; width: 99.3333px;\">\n",
    "<p>Ticket</p>\n",
    "</td>\n",
    "<td style=\"height: 45px; width: 389.333px;\">\n",
    "<p>Ticket Number</p>\n",
    "</td>\n",
    "</tr>\n",
    "<tr style=\"height: 45px;\">\n",
    "<td style=\"height: 45px; width: 46px;\">\n",
    "<p>10</p>\n",
    "</td>\n",
    "<td style=\"height: 45px; width: 99.3333px;\">\n",
    "<p>Fare</p>\n",
    "</td>\n",
    "<td style=\"height: 45px; width: 389.333px;\">\n",
    "<p>Tarifa del pasaje</p>\n",
    "</td>\n",
    "</tr>\n",
    "<tr style=\"height: 45px;\">\n",
    "<td style=\"height: 45px; width: 46px;\">\n",
    "<p>11</p>\n",
    "</td>\n",
    "<td style=\"height: 45px; width: 99.3333px;\">\n",
    "<p>Cabin</p>\n",
    "</td>\n",
    "<td style=\"height: 45px; width: 389.333px;\">\n",
    "<p>Nro. de Cabina</p>\n",
    "</td>\n",
    "</tr>\n",
    "<tr style=\"height: 63px;\">\n",
    "<td style=\"height: 63px; width: 46px;\">\n",
    "<p>12</p>\n",
    "</td>\n",
    "<td style=\"height: 63px; width: 99.3333px;\">\n",
    "<p>Embarked</p>\n",
    "</td>\n",
    "<td style=\"height: 63px; width: 389.333px;\">\n",
    "<p>Port of Embarkation (C = Cherbourg; Q = Queenstown; S = Southampton)</p>\n",
    "</td>\n",
    "</tr>\n",
    "</tbody>\n",
    "</table>\n",
    "<p style=\"text-align: justify;\">Existen adem&aacute;s, las siguientes consideraciones especiales:</p>\n",
    "<ul style=\"text-align: justify;\">\n",
    "<li><strong>Pclass</strong> es un proxy para el estado socio-econ&oacute;mico (SES, o socio-economic status) 1st Alto; 2nd Medio; 3er Bajo</li>\n",
    "<li>La edad (<strong>Age</strong>) est&aacute; en a&ntilde;os; Fraccional si la edad es menor que 1. Si la edad es estimada, esta se encuentra en la forma xx.5</li>\n",
    "<li>Con respecto a las variables de relaci&oacute;n familiar (es decir, sibsp y parch) algunas relaciones fueron ignoradas.</li>\n",
    "</ul>\n",
    "<p style=\"text-align: justify;\">Las siguientes son las definiciones usadas para sibsp y parch:</p>\n",
    "<p style=\"text-align: justify;\"><strong>- Sibling (Hermanos):</strong> hermano, hermana, hermanastro o hermanastra de un pasajero a bordo del Titanic.</p>\n",
    "<p style=\"text-align: justify;\"><strong>- Spouse (C&oacute;nyuge):</strong> Esposo o esposa del pasajero a bordo del Titanic (enamorados y novios ignorados).</p>\n",
    "<p style=\"text-align: justify;\"><strong>- Parent (Padre):</strong> madre o padre de pasajero a bordo del Titanic.</p>\n",
    "\n",
    "<p style=\"text-align: justify;\">Es importante este dataset, porque analizando la importancia de sus atributos o factores, podemos predecir cu&aacute;les de ellos fueron determinantes para que algunas personas sobrevivan.</p>"
   ]
  },
  {
   "cell_type": "code",
   "execution_count": 231,
   "metadata": {},
   "outputs": [
    {
     "name": "stdout",
     "output_type": "stream",
     "text": [
      "Nro. Registros para entrenar:  (891, 12)\n",
      "Nro. Registros para prueba:  (418, 11)\n",
      "Total de DataFrames para analizar:  2\n"
     ]
    }
   ],
   "source": [
    "# Se muestra el total de los datos, asi como la cantidad de registros para entrenar y probar\n",
    "total_df = [train, test]\n",
    "print(\"Nro. Registros para entrenar: \", train.shape)\n",
    "print(\"Nro. Registros para prueba: \", test.shape)\n",
    "print(\"Total de DataFrames para analizar: \", len(total_df))"
   ]
  },
  {
   "cell_type": "markdown",
   "metadata": {},
   "source": [
    "## 2. Integración y selección de los datos de interés a analizar\n",
    "\n",
    "<p style=\"text-align: justify;\">Al analizar los datos disponibles, se han identificando cuales atributos pueden ser relevantes y que otros pueden descartarse. Las consideraciones que se han tenido en cuenta son las siguientes:</p>\n",
    "<ul>\n",
    "<li style=\"text-align: justify;\">Si nuestra meta es lograr predecir la supervivencia de los pasajeros, nuestro atributo clave ser&aacute; &ldquo;Survived&rdquo;.</li>\n",
    "<li style=\"text-align: justify;\">Deberemos separar las etiquetas de los datos.</li>\n",
    "<li style=\"text-align: justify;\">Los atributos pclass, sexo y embarcado son variables que poseen diferentes niveles, por lo tanto, son variables categ&oacute;ricas que deber&aacute;n convertirse a numericas.</li>\n",
    "<li style=\"text-align: justify;\">Las variables num&eacute;ricas, se mantendrán como tal.</li>\n",
    "<li style=\"text-align: justify;\">El nombre del pasajero es una variable de texto, y no ser&aacute; una variable &uacute;til para predecir la supervivencia, por tanto se debera eliminar.</li>\n",
    "</ul>\n",
    "\n",
    "<p style=\"text-align: justify;\">De esta manera, de los 12 atributos que originalmente nos proporciona el dataset, podremos prescindir de los siguientes:</p>\n",
    "<ul>\n",
    "<li style=\"text-align: justify;\">PassengerId</li>\n",
    "<li style=\"text-align: justify;\">Name</li>\n",
    "<li style=\"text-align: justify;\">Ticket</li>\n",
    "<li style=\"text-align: justify;\">Cabin</li>\n",
    "</ul>"
   ]
  },
  {
   "cell_type": "code",
   "execution_count": 232,
   "metadata": {},
   "outputs": [
    {
     "name": "stdout",
     "output_type": "stream",
     "text": [
      "Nro. Registros para entrenar/Atributos:  (891, 8)\n",
      "Nro. Registros para prueba/Atributos (no incluido el atributo 'Survived'):  (418, 7)\n"
     ]
    }
   ],
   "source": [
    "# Eliminamos los atributos de poco relevancia para nuestro análisis\n",
    "del_atributos = ['PassengerId', 'Name', 'Ticket', 'Cabin']\n",
    "#total_datos = total_datos.drop(del_atributos, axis = 1)\n",
    "train = train.drop(del_atributos, axis = 1)\n",
    "test  = test.drop(del_atributos, axis = 1)\n",
    "# Nuevo numero de atributos de nuestro dataset\n",
    "#print(\"Nro. Total datos/Atributos: \", total_datos.shape)\n",
    "print(\"Nro. Registros para entrenar/Atributos: \", train.shape)\n",
    "print(\"Nro. Registros para prueba/Atributos (no incluido el atributo 'Survived'): \", test.shape)"
   ]
  },
  {
   "cell_type": "markdown",
   "metadata": {},
   "source": [
    "## 3. Limpieza de los datos\n"
   ]
  },
  {
   "cell_type": "markdown",
   "metadata": {},
   "source": [
    "<div style=\"background-color: #EDF7FF; border-color: #7C9DBF; border-left: 5px solid #7C9DBF; padding: 0.5em;\">\n",
    "<strong>3.1. Gestión de ceros o elementos vacios:</strong> \n",
    "<p style=\"text-align: justify;\">Dado que nuestro dataset es peque&ntilde;o, no deber&iacute;amos optar por eliminar todas las observaciones (filas) o variables (columnas) que contengan valores faltantes.</p>\n",
    "<p style=\"text-align: justify;\">La estrategia utilizada es la de reemplazar los valores faltantes por valores razonables segun la distribuci&oacute;n de los datos.&nbsp; Asi, por ejemplo, utilizaremos la media, la mediana o el modo para reemplazar los valores faltantes. Tambien se utiliza medios graficos a fin de visualizar el impacto de ciertos atributos sobre los valores faltantes.</p>\n",
    "<p style=\"text-align: justify;\">En Python, conocemos la cantidad de valores null o NaN con las siguientes funciones pd.isna() o pd.isnull().</p>\n",
    "</div>"
   ]
  },
  {
   "cell_type": "code",
   "execution_count": 233,
   "metadata": {},
   "outputs": [
    {
     "name": "stdout",
     "output_type": "stream",
     "text": [
      "Ceros o vacios encontrados: \n"
     ]
    },
    {
     "data": {
      "text/plain": [
       "Survived      0\n",
       "Pclass        0\n",
       "Sex           0\n",
       "Age         177\n",
       "SibSp         0\n",
       "Parch         0\n",
       "Fare          0\n",
       "Embarked      2\n",
       "dtype: int64"
      ]
     },
     "execution_count": 233,
     "metadata": {},
     "output_type": "execute_result"
    }
   ],
   "source": [
    "# Verificamos los atributos que contienen valores desconocidos o faltantes\n",
    "print(\"Ceros o vacios encontrados: \")\n",
    "#total_datos.isna().sum()\n",
    "train.isna().sum()"
   ]
  },
  {
   "cell_type": "code",
   "execution_count": 234,
   "metadata": {},
   "outputs": [
    {
     "data": {
      "text/plain": [
       "Survived      0\n",
       "Pclass        0\n",
       "Sex           0\n",
       "Age         177\n",
       "SibSp         0\n",
       "Parch         0\n",
       "Fare          0\n",
       "Embarked      2\n",
       "dtype: int64"
      ]
     },
     "execution_count": 234,
     "metadata": {},
     "output_type": "execute_result"
    }
   ],
   "source": [
    "train.isnull().sum()"
   ]
  },
  {
   "cell_type": "markdown",
   "metadata": {},
   "source": [
    "<p style=\"text-align: justify;\">Como podemos observar, existen datos faltantes pas los atributos <strong>Age</strong>, <strong>Fare</strong> y&nbsp;<strong>Embarked</strong>.&nbsp; En <strong>Survived</strong>, los faltantes corresponden al grupo de datos de \"test\", que por obvias razones no se contemplan, por ser la variable objetivo, es decir, la que debemos predecir para dicho dataset.</p>\n",
    "<p style=\"text-align: justify;\">Que datos asignamos a cada una de estas tres variables? La estrategia es la siguiente:</p>\n",
    "<p style=\"text-align: justify;\"><strong>Age:</strong> Existen 263 pasajeros que no tienen registrada su edad.&nbsp; Para asignarles una, se tomar&aacute; el resultado de calcular numeros aleatorios obtenidos a partir de la suma y diferencia entre la media (mean) y desviacion estandar (std) de las edades de los pasajeros.</p>\n",
    "<p style=\"text-align: justify;\"><strong>Fare:</strong> Existe s&oacute;lo 1 pasajero que no cuenta con la tarifa de su ticket.</p>\n",
    "<p style=\"text-align: justify;\"><strong>Embarked:</strong> Existen 2 pasajeros que no tienen el dato de puerto de embarque.</p>\n",
    "<p style=\"text-align: justify;\">A continuaci&oacute;n se implementa cada uno de ellos.</p>"
   ]
  },
  {
   "cell_type": "markdown",
   "metadata": {},
   "source": [
    "#### a) Datos vacios en el atributo Edad (Age)"
   ]
  },
  {
   "cell_type": "code",
   "execution_count": 235,
   "metadata": {},
   "outputs": [
    {
     "data": {
      "text/plain": [
       "177"
      ]
     },
     "execution_count": 235,
     "metadata": {},
     "output_type": "execute_result"
    }
   ],
   "source": [
    "# Verificamos cuantos datos faltantes en el atributo Age hay en dataset train\n",
    "len(train['Age'][np.isnan(train['Age'])])"
   ]
  },
  {
   "cell_type": "code",
   "execution_count": 236,
   "metadata": {},
   "outputs": [
    {
     "data": {
      "text/plain": [
       "86"
      ]
     },
     "execution_count": 236,
     "metadata": {},
     "output_type": "execute_result"
    }
   ],
   "source": [
    "# Verificamos cuantos datos faltantes en el atributo Age hay en dataset test\n",
    "len(test['Age'][np.isnan(test['Age'])])"
   ]
  },
  {
   "cell_type": "markdown",
   "metadata": {},
   "source": [
    "<p style=\"text-align: justify;\">Antes de aplicar las nuevos valores de edad generadas aleatoriamente a partir de la media y desviacion estandar del total de edades en cada conjunto de datos, visualizaremos mediante un histograma las edades del dataset original vs las edades en el dataset temporal actualizado.</p>"
   ]
  },
  {
   "cell_type": "code",
   "execution_count": 237,
   "metadata": {},
   "outputs": [],
   "source": [
    "# Para los dos datasets temporales, train1 y test1, llenamos los datos Age que contienen valores NaN \n",
    "# con los valores de edad aleatoriamente generados a partir de la media de las edadade y su std\n",
    "\n",
    "pd.options.mode.chained_assignment = None  # deshabilitamos el default='warn'\n",
    "train1 = train\n",
    "test1 = test\n",
    "total_df_test = [train1, test1]\n",
    "\n",
    "for cadaDataset in total_df_test:\n",
    "    \n",
    "    tot_edad_null = len(cadaDataset['Age'][np.isnan(cadaDataset['Age'])])\n",
    "    edad_avg \t  = cadaDataset['Age'].mean()\n",
    "    edad_std \t  = cadaDataset['Age'].std()  \n",
    "    \n",
    "    # lista de edades que reemplazaran a las edades faltantes por cada dataset\n",
    "    lista_random_de_edades = np.random.randint(edad_avg - edad_std, \n",
    "                                               edad_avg + edad_std, \n",
    "                                               size=tot_edad_null)\n",
    "    \n",
    "    cadaDataset['Age'][np.isnan(cadaDataset['Age'])] = lista_random_de_edades\n",
    "    cadaDataset['Age'] = cadaDataset['Age'].astype(int)"
   ]
  },
  {
   "cell_type": "code",
   "execution_count": 174,
   "metadata": {},
   "outputs": [
    {
     "name": "stdout",
     "output_type": "stream",
     "text": [
      "Ceros o vacios encontrados en atributo Age del Datasets de prueba: \n"
     ]
    },
    {
     "data": {
      "text/plain": [
       "Survived    0\n",
       "Pclass      0\n",
       "Sex         0\n",
       "Age         0\n",
       "SibSp       0\n",
       "Parch       0\n",
       "Fare        0\n",
       "Embarked    2\n",
       "dtype: int64"
      ]
     },
     "execution_count": 174,
     "metadata": {},
     "output_type": "execute_result"
    }
   ],
   "source": [
    "# Verificar si hay ceros o vacios\n",
    "print(\"Ceros o vacios encontrados en atributo Age del Datasets de prueba: \")\n",
    "train1.isna().sum()"
   ]
  },
  {
   "cell_type": "markdown",
   "metadata": {},
   "source": [
    "Se constata que no existen datos faltantes en el atributo Age, y para asegurar la calidad de los datos de edad generados, visualizamos mediante un histograma, las edades en el dataset original y en el de prueba."
   ]
  },
  {
   "cell_type": "code",
   "execution_count": 238,
   "metadata": {},
   "outputs": [
    {
     "data": {
      "text/plain": [
       "<matplotlib.legend.Legend at 0x2445b55ccf8>"
      ]
     },
     "execution_count": 238,
     "metadata": {},
     "output_type": "execute_result"
    },
    {
     "data": {
      "image/png": "[encoded data removed]",
      "text/plain": [
       "<Figure size 432x288 with 1 Axes>"
      ]
     },
     "metadata": {},
     "output_type": "display_data"
    }
   ],
   "source": [
    "# Visualizamos el histograma para el atributo edad en el dataset original y en el de prueba\n",
    "# actualizado que no contiene valores vacios en Age\n",
    "fig = plt.figure()\n",
    "ax = fig.add_subplot(111)\n",
    "train['Age'].plot(kind='hist', ax=ax, label=\"Age en train\")\n",
    "train1['Age'].plot(kind='hist', ax=ax, color='red', label=\"Age en train1\")\n",
    "plt.title('Age - Datos originales vs Datos Vacios Modificados')\n",
    "plt.xlabel('Age')\n",
    "plt.legend()"
   ]
  },
  {
   "cell_type": "markdown",
   "metadata": {},
   "source": [
    "Como se visualiza que los nuevos datos para atributo Age son razonables, procederemos a actualizar \n",
    "dichos datos en el dataset original."
   ]
  },
  {
   "cell_type": "code",
   "execution_count": 239,
   "metadata": {},
   "outputs": [],
   "source": [
    "for cadaDataset in total_df:\n",
    "    \n",
    "    tot_edad_null = len(cadaDataset['Age'][np.isnan(cadaDataset['Age'])])\n",
    "    edad_avg \t  = cadaDataset['Age'].mean()\n",
    "    edad_std \t  = cadaDataset['Age'].std()  \n",
    "    \n",
    "    # lista de edades que reemplazaran a las edades faltantes por cada dataset\n",
    "    lista_random_de_edades = np.random.randint(edad_avg - edad_std, \n",
    "                                               edad_avg + edad_std, \n",
    "                                               size=tot_edad_null)\n",
    "    \n",
    "    cadaDataset['Age'][np.isnan(cadaDataset['Age'])] = lista_random_de_edades\n",
    "    cadaDataset['Age'] = cadaDataset['Age'].astype(int)"
   ]
  },
  {
   "cell_type": "code",
   "execution_count": 240,
   "metadata": {},
   "outputs": [
    {
     "data": {
      "text/plain": [
       "0"
      ]
     },
     "execution_count": 240,
     "metadata": {},
     "output_type": "execute_result"
    }
   ],
   "source": [
    "# Verificamos cuantos datos faltantes en el atributo Age hay en dataset train\n",
    "len(train['Age'][np.isnan(train['Age'])])"
   ]
  },
  {
   "cell_type": "code",
   "execution_count": 241,
   "metadata": {},
   "outputs": [
    {
     "data": {
      "text/plain": [
       "0"
      ]
     },
     "execution_count": 241,
     "metadata": {},
     "output_type": "execute_result"
    }
   ],
   "source": [
    "# Verificamos cuantos datos faltantes en el atributo Age hay en dataset test\n",
    "len(test['Age'][np.isnan(test['Age'])])"
   ]
  },
  {
   "cell_type": "markdown",
   "metadata": {},
   "source": [
    "#### b) Datos vacios en el atributo Tarifa (Fare)"
   ]
  },
  {
   "cell_type": "markdown",
   "metadata": {},
   "source": [
    "<p style=\"text-align: justify;\">Existe un pasajero que no posee la tarifa de su ticket.&nbsp; Determinaremos quien es el pasajero y de acuerdo a sus caracterirticas reemplazaremos ese valor con uno razonable.</p>"
   ]
  },
  {
   "cell_type": "code",
   "execution_count": 242,
   "metadata": {},
   "outputs": [
    {
     "data": {
      "text/html": [
       "<div>\n",
       "<style scoped>\n",
       "    .dataframe tbody tr th:only-of-type {\n",
       "        vertical-align: middle;\n",
       "    }\n",
       "\n",
       "    .dataframe tbody tr th {\n",
       "        vertical-align: top;\n",
       "    }\n",
       "\n",
       "    .dataframe thead th {\n",
       "        text-align: right;\n",
       "    }\n",
       "</style>\n",
       "<table border=\"1\" class=\"dataframe\">\n",
       "  <thead>\n",
       "    <tr style=\"text-align: right;\">\n",
       "      <th></th>\n",
       "      <th>Pclass</th>\n",
       "      <th>Sex</th>\n",
       "      <th>Age</th>\n",
       "      <th>SibSp</th>\n",
       "      <th>Parch</th>\n",
       "      <th>Fare</th>\n",
       "      <th>Embarked</th>\n",
       "    </tr>\n",
       "  </thead>\n",
       "  <tbody>\n",
       "    <tr>\n",
       "      <th>152</th>\n",
       "      <td>3</td>\n",
       "      <td>male</td>\n",
       "      <td>60</td>\n",
       "      <td>0</td>\n",
       "      <td>0</td>\n",
       "      <td>NaN</td>\n",
       "      <td>S</td>\n",
       "    </tr>\n",
       "  </tbody>\n",
       "</table>\n",
       "</div>"
      ],
      "text/plain": [
       "     Pclass   Sex  Age  SibSp  Parch  Fare Embarked\n",
       "152       3  male   60      0      0   NaN        S"
      ]
     },
     "execution_count": 242,
     "metadata": {},
     "output_type": "execute_result"
    }
   ],
   "source": [
    "# Identificamos al pasajero con el la tarifa de su ticket faltante\n",
    "idx = test.index[test['Fare'].isna()]\n",
    "test.loc[idx]"
   ]
  },
  {
   "cell_type": "markdown",
   "metadata": {},
   "source": [
    "<p style=\"text-align: justify;\">El pasajero se encuentra en la clase 3 (Pclass=3) y se embarc&oacute; en&nbsp;Southampton (Embarked='S'), por tanto, le corresponderia una tarifa 'mediana' correspondiente a tercera clase y embarcando en&nbsp;Southampton.&nbsp; La actualización la hacemos con el siguiente c&oacute;digo:</p>"
   ]
  },
  {
   "cell_type": "code",
   "execution_count": 243,
   "metadata": {},
   "outputs": [
    {
     "data": {
      "text/plain": [
       "8.05"
      ]
     },
     "execution_count": 243,
     "metadata": {},
     "output_type": "execute_result"
    }
   ],
   "source": [
    "# Obtenemos la mediana de la tarifa, solo para aquellos pasajeros que pertenecian a tercera clase, \n",
    "# y embarcaron en Southampton \n",
    "\n",
    "new_fare = test['Fare'].where(cond=((test['Pclass']== 3) & (test['Embarked']=='S'))).median()\n",
    "new_fare"
   ]
  },
  {
   "cell_type": "code",
   "execution_count": 244,
   "metadata": {},
   "outputs": [],
   "source": [
    "# Actualizamos el valor de la tarifa 'Fare' al pasajero que la tiene con valor NaN\n",
    "# df.at[df.index[152], 'ColName'] = valor\n",
    "test.at[test.index[idx],'Fare'] = new_fare"
   ]
  },
  {
   "cell_type": "markdown",
   "metadata": {},
   "source": [
    "Comprobamos ahora que ya no existen valores vacios en los datasets y que el unico valor vacio en\n",
    "el atributo 'Fare' fue correctamente actualizado:"
   ]
  },
  {
   "cell_type": "code",
   "execution_count": 245,
   "metadata": {},
   "outputs": [
    {
     "data": {
      "text/plain": [
       "Pclass      0\n",
       "Sex         0\n",
       "Age         0\n",
       "SibSp       0\n",
       "Parch       0\n",
       "Fare        0\n",
       "Embarked    0\n",
       "dtype: int64"
      ]
     },
     "execution_count": 245,
     "metadata": {},
     "output_type": "execute_result"
    }
   ],
   "source": [
    "# Verificamos si hay datos faltantes en el atributo Fare en dataset test\n",
    "test.isna().sum()"
   ]
  },
  {
   "cell_type": "markdown",
   "metadata": {},
   "source": [
    "#### c) Datos vacios en el atributo Puerto de Embarque (Embarked)"
   ]
  },
  {
   "cell_type": "markdown",
   "metadata": {},
   "source": [
    "Debemos inferir el puerto de embarque de los dos pasajeros a partir de la tarifa de su ticket."
   ]
  },
  {
   "cell_type": "code",
   "execution_count": 246,
   "metadata": {},
   "outputs": [
    {
     "data": {
      "text/plain": [
       "(array([ 61, 829], dtype=int64),)"
      ]
     },
     "execution_count": 246,
     "metadata": {},
     "output_type": "execute_result"
    }
   ],
   "source": [
    "# Ubicamos a los pasajeros que no poseen un puerto de embarque\n",
    "sin_embarque = np.where(train[\"Embarked\"].isnull() == True)\n",
    "sin_embarque"
   ]
  },
  {
   "cell_type": "code",
   "execution_count": 247,
   "metadata": {},
   "outputs": [
    {
     "data": {
      "text/html": [
       "<div>\n",
       "<style scoped>\n",
       "    .dataframe tbody tr th:only-of-type {\n",
       "        vertical-align: middle;\n",
       "    }\n",
       "\n",
       "    .dataframe tbody tr th {\n",
       "        vertical-align: top;\n",
       "    }\n",
       "\n",
       "    .dataframe thead th {\n",
       "        text-align: right;\n",
       "    }\n",
       "</style>\n",
       "<table border=\"1\" class=\"dataframe\">\n",
       "  <thead>\n",
       "    <tr style=\"text-align: right;\">\n",
       "      <th></th>\n",
       "      <th>Survived</th>\n",
       "      <th>Pclass</th>\n",
       "      <th>Sex</th>\n",
       "      <th>Age</th>\n",
       "      <th>SibSp</th>\n",
       "      <th>Parch</th>\n",
       "      <th>Fare</th>\n",
       "      <th>Embarked</th>\n",
       "    </tr>\n",
       "  </thead>\n",
       "  <tbody>\n",
       "    <tr>\n",
       "      <th>61</th>\n",
       "      <td>1</td>\n",
       "      <td>1</td>\n",
       "      <td>female</td>\n",
       "      <td>38</td>\n",
       "      <td>0</td>\n",
       "      <td>0</td>\n",
       "      <td>80.0</td>\n",
       "      <td>NaN</td>\n",
       "    </tr>\n",
       "    <tr>\n",
       "      <th>829</th>\n",
       "      <td>1</td>\n",
       "      <td>1</td>\n",
       "      <td>female</td>\n",
       "      <td>62</td>\n",
       "      <td>0</td>\n",
       "      <td>0</td>\n",
       "      <td>80.0</td>\n",
       "      <td>NaN</td>\n",
       "    </tr>\n",
       "  </tbody>\n",
       "</table>\n",
       "</div>"
      ],
      "text/plain": [
       "     Survived  Pclass     Sex  Age  SibSp  Parch  Fare Embarked\n",
       "61          1       1  female   38      0      0  80.0      NaN\n",
       "829         1       1  female   62      0      0  80.0      NaN"
      ]
     },
     "execution_count": 247,
     "metadata": {},
     "output_type": "execute_result"
    }
   ],
   "source": [
    "# Vemos los datos de los pasajeros sin puerto de embarque, coincide que ambos pertenecen a 1ra Clase\n",
    "# y pagaron una tarifa de $80\n",
    "# idx = test.index[test['Fare'].isna()]\n",
    "train.loc[sin_embarque].head()"
   ]
  },
  {
   "cell_type": "markdown",
   "metadata": {},
   "source": [
    "Analizaremos que tienen en comun los pasajeros que si embarcaron, pertenecen a 1ra clase y pagaron una tarifa por su ticket."
   ]
  },
  {
   "cell_type": "code",
   "execution_count": 248,
   "metadata": {},
   "outputs": [
    {
     "data": {
      "text/html": [
       "<div>\n",
       "<style scoped>\n",
       "    .dataframe tbody tr th:only-of-type {\n",
       "        vertical-align: middle;\n",
       "    }\n",
       "\n",
       "    .dataframe tbody tr th {\n",
       "        vertical-align: top;\n",
       "    }\n",
       "\n",
       "    .dataframe thead th {\n",
       "        text-align: right;\n",
       "    }\n",
       "</style>\n",
       "<table border=\"1\" class=\"dataframe\">\n",
       "  <thead>\n",
       "    <tr style=\"text-align: right;\">\n",
       "      <th></th>\n",
       "      <th>Survived</th>\n",
       "      <th>Pclass</th>\n",
       "      <th>Sex</th>\n",
       "      <th>Age</th>\n",
       "      <th>SibSp</th>\n",
       "      <th>Parch</th>\n",
       "      <th>Fare</th>\n",
       "      <th>Embarked</th>\n",
       "    </tr>\n",
       "  </thead>\n",
       "  <tbody>\n",
       "    <tr>\n",
       "      <th>1</th>\n",
       "      <td>1</td>\n",
       "      <td>1</td>\n",
       "      <td>female</td>\n",
       "      <td>38</td>\n",
       "      <td>1</td>\n",
       "      <td>0</td>\n",
       "      <td>71.2833</td>\n",
       "      <td>C</td>\n",
       "    </tr>\n",
       "    <tr>\n",
       "      <th>3</th>\n",
       "      <td>1</td>\n",
       "      <td>1</td>\n",
       "      <td>female</td>\n",
       "      <td>35</td>\n",
       "      <td>1</td>\n",
       "      <td>0</td>\n",
       "      <td>53.1000</td>\n",
       "      <td>S</td>\n",
       "    </tr>\n",
       "    <tr>\n",
       "      <th>6</th>\n",
       "      <td>0</td>\n",
       "      <td>1</td>\n",
       "      <td>male</td>\n",
       "      <td>54</td>\n",
       "      <td>0</td>\n",
       "      <td>0</td>\n",
       "      <td>51.8625</td>\n",
       "      <td>S</td>\n",
       "    </tr>\n",
       "    <tr>\n",
       "      <th>11</th>\n",
       "      <td>1</td>\n",
       "      <td>1</td>\n",
       "      <td>female</td>\n",
       "      <td>58</td>\n",
       "      <td>0</td>\n",
       "      <td>0</td>\n",
       "      <td>26.5500</td>\n",
       "      <td>S</td>\n",
       "    </tr>\n",
       "    <tr>\n",
       "      <th>23</th>\n",
       "      <td>1</td>\n",
       "      <td>1</td>\n",
       "      <td>male</td>\n",
       "      <td>28</td>\n",
       "      <td>0</td>\n",
       "      <td>0</td>\n",
       "      <td>35.5000</td>\n",
       "      <td>S</td>\n",
       "    </tr>\n",
       "    <tr>\n",
       "      <th>27</th>\n",
       "      <td>0</td>\n",
       "      <td>1</td>\n",
       "      <td>male</td>\n",
       "      <td>19</td>\n",
       "      <td>3</td>\n",
       "      <td>2</td>\n",
       "      <td>263.0000</td>\n",
       "      <td>S</td>\n",
       "    </tr>\n",
       "    <tr>\n",
       "      <th>30</th>\n",
       "      <td>0</td>\n",
       "      <td>1</td>\n",
       "      <td>male</td>\n",
       "      <td>40</td>\n",
       "      <td>0</td>\n",
       "      <td>0</td>\n",
       "      <td>27.7208</td>\n",
       "      <td>C</td>\n",
       "    </tr>\n",
       "    <tr>\n",
       "      <th>31</th>\n",
       "      <td>1</td>\n",
       "      <td>1</td>\n",
       "      <td>female</td>\n",
       "      <td>28</td>\n",
       "      <td>1</td>\n",
       "      <td>0</td>\n",
       "      <td>146.5208</td>\n",
       "      <td>C</td>\n",
       "    </tr>\n",
       "    <tr>\n",
       "      <th>34</th>\n",
       "      <td>0</td>\n",
       "      <td>1</td>\n",
       "      <td>male</td>\n",
       "      <td>28</td>\n",
       "      <td>1</td>\n",
       "      <td>0</td>\n",
       "      <td>82.1708</td>\n",
       "      <td>C</td>\n",
       "    </tr>\n",
       "    <tr>\n",
       "      <th>35</th>\n",
       "      <td>0</td>\n",
       "      <td>1</td>\n",
       "      <td>male</td>\n",
       "      <td>42</td>\n",
       "      <td>1</td>\n",
       "      <td>0</td>\n",
       "      <td>52.0000</td>\n",
       "      <td>S</td>\n",
       "    </tr>\n",
       "  </tbody>\n",
       "</table>\n",
       "</div>"
      ],
      "text/plain": [
       "    Survived  Pclass     Sex  Age  SibSp  Parch      Fare Embarked\n",
       "1          1       1  female   38      1      0   71.2833        C\n",
       "3          1       1  female   35      1      0   53.1000        S\n",
       "6          0       1    male   54      0      0   51.8625        S\n",
       "11         1       1  female   58      0      0   26.5500        S\n",
       "23         1       1    male   28      0      0   35.5000        S\n",
       "27         0       1    male   19      3      2  263.0000        S\n",
       "30         0       1    male   40      0      0   27.7208        C\n",
       "31         1       1  female   28      1      0  146.5208        C\n",
       "34         0       1    male   28      1      0   82.1708        C\n",
       "35         0       1    male   42      1      0   52.0000        S"
      ]
     },
     "execution_count": 248,
     "metadata": {},
     "output_type": "execute_result"
    }
   ],
   "source": [
    "con_embarque = np.where((train[\"Embarked\"].isnull() == False) & (train['Pclass'] == 1))\n",
    "train.loc[con_embarque].head(10)"
   ]
  },
  {
   "cell_type": "code",
   "execution_count": 249,
   "metadata": {},
   "outputs": [
    {
     "data": {
      "text/html": [
       "<div>\n",
       "<style scoped>\n",
       "    .dataframe tbody tr th:only-of-type {\n",
       "        vertical-align: middle;\n",
       "    }\n",
       "\n",
       "    .dataframe tbody tr th {\n",
       "        vertical-align: top;\n",
       "    }\n",
       "\n",
       "    .dataframe thead th {\n",
       "        text-align: right;\n",
       "    }\n",
       "</style>\n",
       "<table border=\"1\" class=\"dataframe\">\n",
       "  <thead>\n",
       "    <tr style=\"text-align: right;\">\n",
       "      <th></th>\n",
       "      <th>Embarked</th>\n",
       "      <th>Pclass</th>\n",
       "      <th>Fare</th>\n",
       "    </tr>\n",
       "  </thead>\n",
       "  <tbody>\n",
       "    <tr>\n",
       "      <th>0</th>\n",
       "      <td>C</td>\n",
       "      <td>1.0</td>\n",
       "      <td>104.718529</td>\n",
       "    </tr>\n",
       "    <tr>\n",
       "      <th>1</th>\n",
       "      <td>Q</td>\n",
       "      <td>1.0</td>\n",
       "      <td>90.000000</td>\n",
       "    </tr>\n",
       "    <tr>\n",
       "      <th>2</th>\n",
       "      <td>S</td>\n",
       "      <td>1.0</td>\n",
       "      <td>70.364862</td>\n",
       "    </tr>\n",
       "  </tbody>\n",
       "</table>\n",
       "</div>"
      ],
      "text/plain": [
       "  Embarked  Pclass        Fare\n",
       "0        C     1.0  104.718529\n",
       "1        Q     1.0   90.000000\n",
       "2        S     1.0   70.364862"
      ]
     },
     "execution_count": 249,
     "metadata": {},
     "output_type": "execute_result"
    }
   ],
   "source": [
    "# Mostramos la tarifa promedio pagada por Puerto de Embarque, cuando la Clase es 1 = Primera clase\n",
    "train[['Embarked', 'Pclass', 'Fare']].where(\n",
    "    (train[\"Embarked\"].isnull() == False) & \n",
    "    (train['Pclass'] == 1)).groupby(['Embarked'], as_index=False).mean()"
   ]
  },
  {
   "cell_type": "markdown",
   "metadata": {},
   "source": [
    "<p style=\"text-align: justify;\">Se puede observar que los pasajeros que pertenecen a 1ra. Clase, pagaron por su Ticket de Embarque, tarifas promedio comprendidas en estos rangos de precios:</p>\n",
    "<ul>\n",
    "<li style=\"text-align: justify;\">De 70 a 90 si embarcaron en \"S\"</li>\n",
    "<li style=\"text-align: justify;\">De 91 a 105 si embarcaron en \"Q\"</li>\n",
    "<li style=\"text-align: justify;\">Más de 105 si embarcaron en \"C\"</li>\n",
    "</ul>\n",
    "<p>Nuestros pasajeros que pagaron entonces una tarifa de $80 les corresponde entonces el puerto de embarque S (Southampton).</p>"
   ]
  },
  {
   "cell_type": "code",
   "execution_count": 250,
   "metadata": {},
   "outputs": [
    {
     "data": {
      "text/plain": [
       "Survived    0\n",
       "Pclass      0\n",
       "Sex         0\n",
       "Age         0\n",
       "SibSp       0\n",
       "Parch       0\n",
       "Fare        0\n",
       "Embarked    0\n",
       "dtype: int64"
      ]
     },
     "execution_count": 250,
     "metadata": {},
     "output_type": "execute_result"
    }
   ],
   "source": [
    "# Actualizamos el valor del embarque 'Embarked' a los pasajeros que lo tiene con valor NaN\n",
    "# df.at[df.index[152], 'ColName'] = valor\n",
    "train.at[train.index[sin_embarque],'Embarked'] = 'S'\n",
    "\n",
    "# Verificamos si hay datos faltantes en el atributo \"Embarked\" del dataset train\n",
    "train.isna().sum()"
   ]
  },
  {
   "cell_type": "markdown",
   "metadata": {},
   "source": [
    "<div style=\"background-color: #EDF7FF; border-color: #7C9DBF; border-left: 5px solid #7C9DBF; padding: 0.5em;\">\n",
    "<strong>3.2. Creación de nuevas variables:</strong> \n",
    "</div>"
   ]
  },
  {
   "cell_type": "markdown",
   "metadata": {},
   "source": [
    "<p style=\"text-align: justify;\">A partir del dataset inicial podemos generar algunas variables adicionales interesantes, relacionadas al pasajero, y cuyos datos podrian tomarse en cuenta para el analisis.&nbsp; Estas variables responder&aacute;n a las siguientes preguntas:</p>\n",
    "<ul>\n",
    "<li>El pasajero viaja en familia o no?</li>\n",
    "<li>El pasajero es adulto o menor de edad?</li>\n",
    "</ul>\n",
    "<p>A continuaci&oacute;, vamos a crear las siguientes variables nuevas:</p>\n",
    "<ul>\n",
    "<li><strong>enFamilia</strong>: A partir de los atributos&nbsp;Siblings/Spouses o Parents/Children, se podr&aacute; identificar si el pasajero viajaba en famiia o solo.</li>\n",
    "<li><strong>rangoEdad</strong>: Nos interesa tambien descubrir si el pasajero era adulto o ni&ntilde;o.</li>\n",
    "</ul>"
   ]
  },
  {
   "cell_type": "code",
   "execution_count": 251,
   "metadata": {},
   "outputs": [],
   "source": [
    "# Creacion de variable enFamilia\n",
    "train['enFamilia'] = (train['SibSp'] > 0) | (train['Parch'] > 0)\n",
    "test['enFamilia'] = (test['SibSp'] > 0) | (test['Parch'] > 0)\n",
    "\n",
    "# Creacion de variable rangoEdad (-1 para cubrir a los niños menores a un año)\n",
    "train['rangoEdad'] = pd.cut(train['Age'], [-1, 15, 80], labels=['niño', 'adulto'])\n",
    "test['rangoEdad'] = pd.cut(test['Age'], [-1, 15, 80], labels=['niño', 'adulto'])\n"
   ]
  },
  {
   "cell_type": "code",
   "execution_count": 252,
   "metadata": {},
   "outputs": [
    {
     "data": {
      "text/html": [
       "<div>\n",
       "<style scoped>\n",
       "    .dataframe tbody tr th:only-of-type {\n",
       "        vertical-align: middle;\n",
       "    }\n",
       "\n",
       "    .dataframe tbody tr th {\n",
       "        vertical-align: top;\n",
       "    }\n",
       "\n",
       "    .dataframe thead th {\n",
       "        text-align: right;\n",
       "    }\n",
       "</style>\n",
       "<table border=\"1\" class=\"dataframe\">\n",
       "  <thead>\n",
       "    <tr style=\"text-align: right;\">\n",
       "      <th></th>\n",
       "      <th>Survived</th>\n",
       "      <th>Pclass</th>\n",
       "      <th>Sex</th>\n",
       "      <th>Age</th>\n",
       "      <th>SibSp</th>\n",
       "      <th>Parch</th>\n",
       "      <th>Fare</th>\n",
       "      <th>Embarked</th>\n",
       "      <th>enFamilia</th>\n",
       "      <th>rangoEdad</th>\n",
       "    </tr>\n",
       "  </thead>\n",
       "  <tbody>\n",
       "    <tr>\n",
       "      <th>0</th>\n",
       "      <td>0</td>\n",
       "      <td>3</td>\n",
       "      <td>male</td>\n",
       "      <td>22</td>\n",
       "      <td>1</td>\n",
       "      <td>0</td>\n",
       "      <td>7.2500</td>\n",
       "      <td>S</td>\n",
       "      <td>True</td>\n",
       "      <td>adulto</td>\n",
       "    </tr>\n",
       "    <tr>\n",
       "      <th>1</th>\n",
       "      <td>1</td>\n",
       "      <td>1</td>\n",
       "      <td>female</td>\n",
       "      <td>38</td>\n",
       "      <td>1</td>\n",
       "      <td>0</td>\n",
       "      <td>71.2833</td>\n",
       "      <td>C</td>\n",
       "      <td>True</td>\n",
       "      <td>adulto</td>\n",
       "    </tr>\n",
       "    <tr>\n",
       "      <th>2</th>\n",
       "      <td>1</td>\n",
       "      <td>3</td>\n",
       "      <td>female</td>\n",
       "      <td>26</td>\n",
       "      <td>0</td>\n",
       "      <td>0</td>\n",
       "      <td>7.9250</td>\n",
       "      <td>S</td>\n",
       "      <td>False</td>\n",
       "      <td>adulto</td>\n",
       "    </tr>\n",
       "    <tr>\n",
       "      <th>3</th>\n",
       "      <td>1</td>\n",
       "      <td>1</td>\n",
       "      <td>female</td>\n",
       "      <td>35</td>\n",
       "      <td>1</td>\n",
       "      <td>0</td>\n",
       "      <td>53.1000</td>\n",
       "      <td>S</td>\n",
       "      <td>True</td>\n",
       "      <td>adulto</td>\n",
       "    </tr>\n",
       "    <tr>\n",
       "      <th>4</th>\n",
       "      <td>0</td>\n",
       "      <td>3</td>\n",
       "      <td>male</td>\n",
       "      <td>35</td>\n",
       "      <td>0</td>\n",
       "      <td>0</td>\n",
       "      <td>8.0500</td>\n",
       "      <td>S</td>\n",
       "      <td>False</td>\n",
       "      <td>adulto</td>\n",
       "    </tr>\n",
       "  </tbody>\n",
       "</table>\n",
       "</div>"
      ],
      "text/plain": [
       "   Survived  Pclass     Sex  Age  SibSp  Parch     Fare Embarked  enFamilia  \\\n",
       "0         0       3    male   22      1      0   7.2500        S       True   \n",
       "1         1       1  female   38      1      0  71.2833        C       True   \n",
       "2         1       3  female   26      0      0   7.9250        S      False   \n",
       "3         1       1  female   35      1      0  53.1000        S       True   \n",
       "4         0       3    male   35      0      0   8.0500        S      False   \n",
       "\n",
       "  rangoEdad  \n",
       "0    adulto  \n",
       "1    adulto  \n",
       "2    adulto  \n",
       "3    adulto  \n",
       "4    adulto  "
      ]
     },
     "execution_count": 252,
     "metadata": {},
     "output_type": "execute_result"
    }
   ],
   "source": [
    "train.head()"
   ]
  },
  {
   "cell_type": "code",
   "execution_count": 253,
   "metadata": {},
   "outputs": [
    {
     "data": {
      "text/html": [
       "<div>\n",
       "<style scoped>\n",
       "    .dataframe tbody tr th:only-of-type {\n",
       "        vertical-align: middle;\n",
       "    }\n",
       "\n",
       "    .dataframe tbody tr th {\n",
       "        vertical-align: top;\n",
       "    }\n",
       "\n",
       "    .dataframe thead th {\n",
       "        text-align: right;\n",
       "    }\n",
       "</style>\n",
       "<table border=\"1\" class=\"dataframe\">\n",
       "  <thead>\n",
       "    <tr style=\"text-align: right;\">\n",
       "      <th></th>\n",
       "      <th>Pclass</th>\n",
       "      <th>Sex</th>\n",
       "      <th>Age</th>\n",
       "      <th>SibSp</th>\n",
       "      <th>Parch</th>\n",
       "      <th>Fare</th>\n",
       "      <th>Embarked</th>\n",
       "      <th>enFamilia</th>\n",
       "      <th>rangoEdad</th>\n",
       "    </tr>\n",
       "  </thead>\n",
       "  <tbody>\n",
       "    <tr>\n",
       "      <th>0</th>\n",
       "      <td>3</td>\n",
       "      <td>male</td>\n",
       "      <td>34</td>\n",
       "      <td>0</td>\n",
       "      <td>0</td>\n",
       "      <td>7.8292</td>\n",
       "      <td>Q</td>\n",
       "      <td>False</td>\n",
       "      <td>adulto</td>\n",
       "    </tr>\n",
       "    <tr>\n",
       "      <th>1</th>\n",
       "      <td>3</td>\n",
       "      <td>female</td>\n",
       "      <td>47</td>\n",
       "      <td>1</td>\n",
       "      <td>0</td>\n",
       "      <td>7.0000</td>\n",
       "      <td>S</td>\n",
       "      <td>True</td>\n",
       "      <td>adulto</td>\n",
       "    </tr>\n",
       "    <tr>\n",
       "      <th>2</th>\n",
       "      <td>2</td>\n",
       "      <td>male</td>\n",
       "      <td>62</td>\n",
       "      <td>0</td>\n",
       "      <td>0</td>\n",
       "      <td>9.6875</td>\n",
       "      <td>Q</td>\n",
       "      <td>False</td>\n",
       "      <td>adulto</td>\n",
       "    </tr>\n",
       "    <tr>\n",
       "      <th>3</th>\n",
       "      <td>3</td>\n",
       "      <td>male</td>\n",
       "      <td>27</td>\n",
       "      <td>0</td>\n",
       "      <td>0</td>\n",
       "      <td>8.6625</td>\n",
       "      <td>S</td>\n",
       "      <td>False</td>\n",
       "      <td>adulto</td>\n",
       "    </tr>\n",
       "    <tr>\n",
       "      <th>4</th>\n",
       "      <td>3</td>\n",
       "      <td>female</td>\n",
       "      <td>22</td>\n",
       "      <td>1</td>\n",
       "      <td>1</td>\n",
       "      <td>12.2875</td>\n",
       "      <td>S</td>\n",
       "      <td>True</td>\n",
       "      <td>adulto</td>\n",
       "    </tr>\n",
       "  </tbody>\n",
       "</table>\n",
       "</div>"
      ],
      "text/plain": [
       "   Pclass     Sex  Age  SibSp  Parch     Fare Embarked  enFamilia rangoEdad\n",
       "0       3    male   34      0      0   7.8292        Q      False    adulto\n",
       "1       3  female   47      1      0   7.0000        S       True    adulto\n",
       "2       2    male   62      0      0   9.6875        Q      False    adulto\n",
       "3       3    male   27      0      0   8.6625        S      False    adulto\n",
       "4       3  female   22      1      1  12.2875        S       True    adulto"
      ]
     },
     "execution_count": 253,
     "metadata": {},
     "output_type": "execute_result"
    }
   ],
   "source": [
    "test.head(5)"
   ]
  },
  {
   "cell_type": "markdown",
   "metadata": {},
   "source": [
    "<div style=\"background-color: #EDF7FF; border-color: #7C9DBF; border-left: 5px solid #7C9DBF; padding: 0.5em;\">\n",
    "<strong>3.3. Identificación y tratamiento de valores extremos | Transformación de datos:</strong> \n",
    "</div>"
   ]
  },
  {
   "cell_type": "markdown",
   "metadata": {},
   "source": [
    "<div style=\"background-color: #EDF7FF; border-color: #7C9DBF; border-left: 5px solid #7C9DBF; padding: 0.5em;\">\n",
    "<strong>3.3.1. Identificación y tratamiento de valores extremos:</strong> \n",
    "</div>"
   ]
  },
  {
   "cell_type": "markdown",
   "metadata": {
    "collapsed": true
   },
   "source": [
    "Los valores extremos son valores numericos atipicos (outliers) que se encuentran distantes de los valores \"tipicos\" que puede tomar una variable.  Analizaremos la variable tarifa del ticket o 'Fare' y mediante un gráfico de cajas podremos observar si existen valores atipicos."
   ]
  },
  {
   "cell_type": "code",
   "execution_count": 254,
   "metadata": {},
   "outputs": [
    {
     "data": {
      "text/plain": [
       "<matplotlib.axes._subplots.AxesSubplot at 0x2445b5861d0>"
      ]
     },
     "execution_count": 254,
     "metadata": {},
     "output_type": "execute_result"
    },
    {
     "data": {
      "image/png": "[encoded data removed]",
      "text/plain": [
       "<Figure size 576x576 with 1 Axes>"
      ]
     },
     "metadata": {},
     "output_type": "display_data"
    }
   ],
   "source": [
    "train.plot(kind=\"box\",figsize=(8,8))"
   ]
  },
  {
   "cell_type": "markdown",
   "metadata": {},
   "source": [
    "Observamos en el diagrama anterior que de todas las variables numericas del dataset train, sólo la variable 'Fare' presenta valores atipicos, esto quiere decir, que hay pasajeros que pagaron una tarifa muy superior por el Ticket de Embarque.  Conozcamos quienes y cuantos pasajeros fueron:"
   ]
  },
  {
   "cell_type": "code",
   "execution_count": 255,
   "metadata": {},
   "outputs": [
    {
     "data": {
      "text/html": [
       "<div>\n",
       "<style scoped>\n",
       "    .dataframe tbody tr th:only-of-type {\n",
       "        vertical-align: middle;\n",
       "    }\n",
       "\n",
       "    .dataframe tbody tr th {\n",
       "        vertical-align: top;\n",
       "    }\n",
       "\n",
       "    .dataframe thead th {\n",
       "        text-align: right;\n",
       "    }\n",
       "</style>\n",
       "<table border=\"1\" class=\"dataframe\">\n",
       "  <thead>\n",
       "    <tr style=\"text-align: right;\">\n",
       "      <th></th>\n",
       "      <th>Survived</th>\n",
       "      <th>Pclass</th>\n",
       "      <th>Sex</th>\n",
       "      <th>Age</th>\n",
       "      <th>SibSp</th>\n",
       "      <th>Parch</th>\n",
       "      <th>Fare</th>\n",
       "      <th>Embarked</th>\n",
       "      <th>enFamilia</th>\n",
       "      <th>rangoEdad</th>\n",
       "    </tr>\n",
       "  </thead>\n",
       "  <tbody>\n",
       "    <tr>\n",
       "      <th>258</th>\n",
       "      <td>1</td>\n",
       "      <td>1</td>\n",
       "      <td>female</td>\n",
       "      <td>35</td>\n",
       "      <td>0</td>\n",
       "      <td>0</td>\n",
       "      <td>512.3292</td>\n",
       "      <td>C</td>\n",
       "      <td>False</td>\n",
       "      <td>adulto</td>\n",
       "    </tr>\n",
       "    <tr>\n",
       "      <th>679</th>\n",
       "      <td>1</td>\n",
       "      <td>1</td>\n",
       "      <td>male</td>\n",
       "      <td>36</td>\n",
       "      <td>0</td>\n",
       "      <td>1</td>\n",
       "      <td>512.3292</td>\n",
       "      <td>C</td>\n",
       "      <td>True</td>\n",
       "      <td>adulto</td>\n",
       "    </tr>\n",
       "    <tr>\n",
       "      <th>737</th>\n",
       "      <td>1</td>\n",
       "      <td>1</td>\n",
       "      <td>male</td>\n",
       "      <td>35</td>\n",
       "      <td>0</td>\n",
       "      <td>0</td>\n",
       "      <td>512.3292</td>\n",
       "      <td>C</td>\n",
       "      <td>False</td>\n",
       "      <td>adulto</td>\n",
       "    </tr>\n",
       "  </tbody>\n",
       "</table>\n",
       "</div>"
      ],
      "text/plain": [
       "     Survived  Pclass     Sex  Age  SibSp  Parch      Fare Embarked  \\\n",
       "258         1       1  female   35      0      0  512.3292        C   \n",
       "679         1       1    male   36      0      1  512.3292        C   \n",
       "737         1       1    male   35      0      0  512.3292        C   \n",
       "\n",
       "     enFamilia rangoEdad  \n",
       "258      False    adulto  \n",
       "679       True    adulto  \n",
       "737      False    adulto  "
      ]
     },
     "execution_count": 255,
     "metadata": {},
     "output_type": "execute_result"
    }
   ],
   "source": [
    "idx = np.where(train[\"Fare\"] == max(train[\"Fare\"]) )\n",
    "train.loc[idx]"
   ]
  },
  {
   "cell_type": "markdown",
   "metadata": {},
   "source": [
    "<p style=\"text-align: justify;\">Son tres los pasajeros que pagaron una tarifa bastante alta por el ticket de embarque. A pesar de eello, no se eliminar&aacute;n estos valores.</p>\n",
    "<p style=\"text-align: justify;\">En el paso siguiente, <strong>\"Transformaci&oacute;n de Datos\"</strong>, se mostrar&aacute; que al transformar los datos de la tarifa (Fare) por valores en el rango de 0 a 4, este valor extremo dejar&aacute; de serlo.</p>"
   ]
  },
  {
   "cell_type": "markdown",
   "metadata": {},
   "source": [
    "<div style=\"background-color: #EDF7FF; border-color: #7C9DBF; border-left: 5px solid #7C9DBF; padding: 0.5em;\">\n",
    "<strong>3.3.2. Transformación de Datos:</strong> \n",
    "</div>"
   ]
  },
  {
   "cell_type": "markdown",
   "metadata": {},
   "source": [
    "<p style=\"text-align: justify;\">Como mencionamos anteriormente, los atributos sexo y embarcado son variables que poseen diferentes niveles de valores, por lo tanto, son variables categ&oacute;ricas que deber&aacute;n convertirse a numericas (pclass lo era pero se elimin&oacute; para efecto de esta pr&aacute;ctica).</p>"
   ]
  },
  {
   "cell_type": "code",
   "execution_count": 256,
   "metadata": {},
   "outputs": [
    {
     "name": "stdout",
     "output_type": "stream",
     "text": [
      "Index(['Sex', 'Embarked'], dtype='object')\n"
     ]
    },
    {
     "data": {
      "text/html": [
       "<div>\n",
       "<style scoped>\n",
       "    .dataframe tbody tr th:only-of-type {\n",
       "        vertical-align: middle;\n",
       "    }\n",
       "\n",
       "    .dataframe tbody tr th {\n",
       "        vertical-align: top;\n",
       "    }\n",
       "\n",
       "    .dataframe thead th {\n",
       "        text-align: right;\n",
       "    }\n",
       "</style>\n",
       "<table border=\"1\" class=\"dataframe\">\n",
       "  <thead>\n",
       "    <tr style=\"text-align: right;\">\n",
       "      <th></th>\n",
       "      <th>Sex</th>\n",
       "      <th>Embarked</th>\n",
       "    </tr>\n",
       "  </thead>\n",
       "  <tbody>\n",
       "    <tr>\n",
       "      <th>count</th>\n",
       "      <td>891</td>\n",
       "      <td>891</td>\n",
       "    </tr>\n",
       "    <tr>\n",
       "      <th>unique</th>\n",
       "      <td>2</td>\n",
       "      <td>3</td>\n",
       "    </tr>\n",
       "    <tr>\n",
       "      <th>top</th>\n",
       "      <td>male</td>\n",
       "      <td>S</td>\n",
       "    </tr>\n",
       "    <tr>\n",
       "      <th>freq</th>\n",
       "      <td>577</td>\n",
       "      <td>646</td>\n",
       "    </tr>\n",
       "  </tbody>\n",
       "</table>\n",
       "</div>"
      ],
      "text/plain": [
       "         Sex Embarked\n",
       "count    891      891\n",
       "unique     2        3\n",
       "top     male        S\n",
       "freq     577      646"
      ]
     },
     "execution_count": 256,
     "metadata": {},
     "output_type": "execute_result"
    }
   ],
   "source": [
    "# Variables categoricas en el conjunto de datos de train\n",
    "categoricasX = train.dtypes[train.dtypes == \"object\"].index\n",
    "print(categoricasX)\n",
    "\n",
    "train[categoricasX].describe()"
   ]
  },
  {
   "cell_type": "code",
   "execution_count": 257,
   "metadata": {},
   "outputs": [
    {
     "name": "stdout",
     "output_type": "stream",
     "text": [
      "Index(['Sex', 'Embarked'], dtype='object')\n"
     ]
    },
    {
     "data": {
      "text/html": [
       "<div>\n",
       "<style scoped>\n",
       "    .dataframe tbody tr th:only-of-type {\n",
       "        vertical-align: middle;\n",
       "    }\n",
       "\n",
       "    .dataframe tbody tr th {\n",
       "        vertical-align: top;\n",
       "    }\n",
       "\n",
       "    .dataframe thead th {\n",
       "        text-align: right;\n",
       "    }\n",
       "</style>\n",
       "<table border=\"1\" class=\"dataframe\">\n",
       "  <thead>\n",
       "    <tr style=\"text-align: right;\">\n",
       "      <th></th>\n",
       "      <th>Sex</th>\n",
       "      <th>Embarked</th>\n",
       "    </tr>\n",
       "  </thead>\n",
       "  <tbody>\n",
       "    <tr>\n",
       "      <th>count</th>\n",
       "      <td>418</td>\n",
       "      <td>418</td>\n",
       "    </tr>\n",
       "    <tr>\n",
       "      <th>unique</th>\n",
       "      <td>2</td>\n",
       "      <td>3</td>\n",
       "    </tr>\n",
       "    <tr>\n",
       "      <th>top</th>\n",
       "      <td>male</td>\n",
       "      <td>S</td>\n",
       "    </tr>\n",
       "    <tr>\n",
       "      <th>freq</th>\n",
       "      <td>266</td>\n",
       "      <td>270</td>\n",
       "    </tr>\n",
       "  </tbody>\n",
       "</table>\n",
       "</div>"
      ],
      "text/plain": [
       "         Sex Embarked\n",
       "count    418      418\n",
       "unique     2        3\n",
       "top     male        S\n",
       "freq     266      270"
      ]
     },
     "execution_count": 257,
     "metadata": {},
     "output_type": "execute_result"
    }
   ],
   "source": [
    "# Variables categoricas en el conjunto de datos de test\n",
    "categoricasY = test.dtypes[test.dtypes == \"object\"].index\n",
    "print(categoricasY)\n",
    "\n",
    "test[categoricasY].describe()"
   ]
  },
  {
   "cell_type": "markdown",
   "metadata": {},
   "source": [
    "##### Transformación de las atributos Sex , Embarked, enFamilia, rangoEdad"
   ]
  },
  {
   "cell_type": "code",
   "execution_count": 258,
   "metadata": {},
   "outputs": [],
   "source": [
    "from sklearn import preprocessing\n",
    "\n",
    "# Inicializamos el encoder de la etiqueta\n",
    "label_enc = preprocessing.LabelEncoder()\n",
    "\n",
    "# Convertimos las variables sexo y embarcado de categoricas a numericas en datasets train y test\n",
    "train[\"Sex\"] = label_enc.fit_transform(train[\"Sex\"])\n",
    "train[\"Embarked\"] = label_enc.fit_transform(train[\"Embarked\"])\n",
    "train[\"enFamilia\"] = label_enc.fit_transform(train[\"enFamilia\"])\n",
    "train[\"rangoEdad\"] = label_enc.fit_transform(train[\"rangoEdad\"])\n",
    "\n",
    "test[\"Sex\"] = label_enc.fit_transform(test[\"Sex\"])\n",
    "test[\"Embarked\"] = label_enc.fit_transform(test[\"Embarked\"])\n",
    "test[\"enFamilia\"] = label_enc.fit_transform(test[\"enFamilia\"])\n",
    "test[\"rangoEdad\"] = label_enc.fit_transform(test[\"rangoEdad\"])"
   ]
  },
  {
   "cell_type": "code",
   "execution_count": 259,
   "metadata": {},
   "outputs": [
    {
     "data": {
      "text/html": [
       "<div>\n",
       "<style scoped>\n",
       "    .dataframe tbody tr th:only-of-type {\n",
       "        vertical-align: middle;\n",
       "    }\n",
       "\n",
       "    .dataframe tbody tr th {\n",
       "        vertical-align: top;\n",
       "    }\n",
       "\n",
       "    .dataframe thead th {\n",
       "        text-align: right;\n",
       "    }\n",
       "</style>\n",
       "<table border=\"1\" class=\"dataframe\">\n",
       "  <thead>\n",
       "    <tr style=\"text-align: right;\">\n",
       "      <th></th>\n",
       "      <th>Survived</th>\n",
       "      <th>Pclass</th>\n",
       "      <th>Sex</th>\n",
       "      <th>Age</th>\n",
       "      <th>SibSp</th>\n",
       "      <th>Parch</th>\n",
       "      <th>Fare</th>\n",
       "      <th>Embarked</th>\n",
       "      <th>enFamilia</th>\n",
       "      <th>rangoEdad</th>\n",
       "    </tr>\n",
       "  </thead>\n",
       "  <tbody>\n",
       "    <tr>\n",
       "      <th>0</th>\n",
       "      <td>0</td>\n",
       "      <td>3</td>\n",
       "      <td>1</td>\n",
       "      <td>22</td>\n",
       "      <td>1</td>\n",
       "      <td>0</td>\n",
       "      <td>7.2500</td>\n",
       "      <td>2</td>\n",
       "      <td>1</td>\n",
       "      <td>0</td>\n",
       "    </tr>\n",
       "    <tr>\n",
       "      <th>1</th>\n",
       "      <td>1</td>\n",
       "      <td>1</td>\n",
       "      <td>0</td>\n",
       "      <td>38</td>\n",
       "      <td>1</td>\n",
       "      <td>0</td>\n",
       "      <td>71.2833</td>\n",
       "      <td>0</td>\n",
       "      <td>1</td>\n",
       "      <td>0</td>\n",
       "    </tr>\n",
       "    <tr>\n",
       "      <th>2</th>\n",
       "      <td>1</td>\n",
       "      <td>3</td>\n",
       "      <td>0</td>\n",
       "      <td>26</td>\n",
       "      <td>0</td>\n",
       "      <td>0</td>\n",
       "      <td>7.9250</td>\n",
       "      <td>2</td>\n",
       "      <td>0</td>\n",
       "      <td>0</td>\n",
       "    </tr>\n",
       "    <tr>\n",
       "      <th>3</th>\n",
       "      <td>1</td>\n",
       "      <td>1</td>\n",
       "      <td>0</td>\n",
       "      <td>35</td>\n",
       "      <td>1</td>\n",
       "      <td>0</td>\n",
       "      <td>53.1000</td>\n",
       "      <td>2</td>\n",
       "      <td>1</td>\n",
       "      <td>0</td>\n",
       "    </tr>\n",
       "    <tr>\n",
       "      <th>4</th>\n",
       "      <td>0</td>\n",
       "      <td>3</td>\n",
       "      <td>1</td>\n",
       "      <td>35</td>\n",
       "      <td>0</td>\n",
       "      <td>0</td>\n",
       "      <td>8.0500</td>\n",
       "      <td>2</td>\n",
       "      <td>0</td>\n",
       "      <td>0</td>\n",
       "    </tr>\n",
       "  </tbody>\n",
       "</table>\n",
       "</div>"
      ],
      "text/plain": [
       "   Survived  Pclass  Sex  Age  SibSp  Parch     Fare  Embarked  enFamilia  \\\n",
       "0         0       3    1   22      1      0   7.2500         2          1   \n",
       "1         1       1    0   38      1      0  71.2833         0          1   \n",
       "2         1       3    0   26      0      0   7.9250         2          0   \n",
       "3         1       1    0   35      1      0  53.1000         2          1   \n",
       "4         0       3    1   35      0      0   8.0500         2          0   \n",
       "\n",
       "   rangoEdad  \n",
       "0          0  \n",
       "1          0  \n",
       "2          0  \n",
       "3          0  \n",
       "4          0  "
      ]
     },
     "execution_count": 259,
     "metadata": {},
     "output_type": "execute_result"
    }
   ],
   "source": [
    "train.head(5)"
   ]
  },
  {
   "cell_type": "code",
   "execution_count": 260,
   "metadata": {},
   "outputs": [
    {
     "data": {
      "text/html": [
       "<div>\n",
       "<style scoped>\n",
       "    .dataframe tbody tr th:only-of-type {\n",
       "        vertical-align: middle;\n",
       "    }\n",
       "\n",
       "    .dataframe tbody tr th {\n",
       "        vertical-align: top;\n",
       "    }\n",
       "\n",
       "    .dataframe thead th {\n",
       "        text-align: right;\n",
       "    }\n",
       "</style>\n",
       "<table border=\"1\" class=\"dataframe\">\n",
       "  <thead>\n",
       "    <tr style=\"text-align: right;\">\n",
       "      <th></th>\n",
       "      <th>Pclass</th>\n",
       "      <th>Sex</th>\n",
       "      <th>Age</th>\n",
       "      <th>SibSp</th>\n",
       "      <th>Parch</th>\n",
       "      <th>Fare</th>\n",
       "      <th>Embarked</th>\n",
       "      <th>enFamilia</th>\n",
       "      <th>rangoEdad</th>\n",
       "    </tr>\n",
       "  </thead>\n",
       "  <tbody>\n",
       "    <tr>\n",
       "      <th>0</th>\n",
       "      <td>3</td>\n",
       "      <td>1</td>\n",
       "      <td>34</td>\n",
       "      <td>0</td>\n",
       "      <td>0</td>\n",
       "      <td>7.8292</td>\n",
       "      <td>1</td>\n",
       "      <td>0</td>\n",
       "      <td>0</td>\n",
       "    </tr>\n",
       "    <tr>\n",
       "      <th>1</th>\n",
       "      <td>3</td>\n",
       "      <td>0</td>\n",
       "      <td>47</td>\n",
       "      <td>1</td>\n",
       "      <td>0</td>\n",
       "      <td>7.0000</td>\n",
       "      <td>2</td>\n",
       "      <td>1</td>\n",
       "      <td>0</td>\n",
       "    </tr>\n",
       "    <tr>\n",
       "      <th>2</th>\n",
       "      <td>2</td>\n",
       "      <td>1</td>\n",
       "      <td>62</td>\n",
       "      <td>0</td>\n",
       "      <td>0</td>\n",
       "      <td>9.6875</td>\n",
       "      <td>1</td>\n",
       "      <td>0</td>\n",
       "      <td>0</td>\n",
       "    </tr>\n",
       "    <tr>\n",
       "      <th>3</th>\n",
       "      <td>3</td>\n",
       "      <td>1</td>\n",
       "      <td>27</td>\n",
       "      <td>0</td>\n",
       "      <td>0</td>\n",
       "      <td>8.6625</td>\n",
       "      <td>2</td>\n",
       "      <td>0</td>\n",
       "      <td>0</td>\n",
       "    </tr>\n",
       "    <tr>\n",
       "      <th>4</th>\n",
       "      <td>3</td>\n",
       "      <td>0</td>\n",
       "      <td>22</td>\n",
       "      <td>1</td>\n",
       "      <td>1</td>\n",
       "      <td>12.2875</td>\n",
       "      <td>2</td>\n",
       "      <td>1</td>\n",
       "      <td>0</td>\n",
       "    </tr>\n",
       "  </tbody>\n",
       "</table>\n",
       "</div>"
      ],
      "text/plain": [
       "   Pclass  Sex  Age  SibSp  Parch     Fare  Embarked  enFamilia  rangoEdad\n",
       "0       3    1   34      0      0   7.8292         1          0          0\n",
       "1       3    0   47      1      0   7.0000         2          1          0\n",
       "2       2    1   62      0      0   9.6875         1          0          0\n",
       "3       3    1   27      0      0   8.6625         2          0          0\n",
       "4       3    0   22      1      1  12.2875         2          1          0"
      ]
     },
     "execution_count": 260,
     "metadata": {},
     "output_type": "execute_result"
    }
   ],
   "source": [
    "test.head(5)"
   ]
  },
  {
   "cell_type": "markdown",
   "metadata": {},
   "source": [
    "<p style=\"text-align: justify;\">La edad (Age) y la tarifa (Fare), siendo atributos numericos, deben transformarse en rangos adecuados para ser analizados con el resto de atributos.</p>\n",
    "<p style=\"text-align: justify;\">Los rangos ser&aacute;n los siguientes:</p>\n",
    "<p style=\"text-align: justify;\"><strong>Edad:</strong></p>\n",
    "<ul style=\"list-style-type: square;\">\n",
    "<li style=\"text-align: justify;\">Age &lt;= 16 a&ntilde;os&nbsp; &nbsp; -&gt; 0</li>\n",
    "<li style=\"text-align: justify;\">Age &gt; 16 y &lt;= 32 -&gt; 1</li>\n",
    "<li style=\"text-align: justify;\">Age &gt; 32 y &lt;= 48 -&gt; 2</li>\n",
    "<li style=\"text-align: justify;\">Age &gt; 48 y &lt;= 64 -&gt; 3</li>\n",
    "<li style=\"text-align: justify;\">Age &gt; 64&nbsp; &nbsp; &nbsp; &nbsp; &nbsp; &nbsp; &nbsp; -&gt; 4</li>\n",
    "</ul>\n",
    "<p><strong>Tarifa:</strong></p>\n",
    "<ul>\n",
    "<li>Fare &lt;= 7.91&nbsp; &nbsp; &nbsp; &nbsp; &nbsp; &nbsp; &nbsp; &nbsp; &nbsp;-&gt; 0</li>\n",
    "<li>Fare &gt; 7.91 &lt;= 14.454&nbsp; -&gt; 1</li>\n",
    "<li>Fare &gt;&nbsp;14.454&nbsp; &lt;= 31&nbsp; &nbsp; -&gt; 2</li>\n",
    "<li>Fare &gt; 31&nbsp; &nbsp; &nbsp; &nbsp; &nbsp; &nbsp; &nbsp; &nbsp; &nbsp; &nbsp; &nbsp; -&gt; 3</li>\n",
    "</ul>"
   ]
  },
  {
   "cell_type": "code",
   "execution_count": 261,
   "metadata": {},
   "outputs": [],
   "source": [
    "total_df= [train, test]\n",
    "\n",
    "for cadaDataset in total_df:\n",
    "    # Transformamos el atributo Age (edad) en un rango de 0 a 4\n",
    "    cadaDataset.loc[ cadaDataset['Age'] <= 16, 'Age'] = 0\n",
    "    cadaDataset.loc[(cadaDataset['Age'] > 16) & (cadaDataset['Age'] <= 32), 'Age'] = 1\n",
    "    cadaDataset.loc[(cadaDataset['Age'] > 32) & (cadaDataset['Age'] <= 48), 'Age'] = 2\n",
    "    cadaDataset.loc[(cadaDataset['Age'] > 48) & (cadaDataset['Age'] <= 64), 'Age'] = 3\n",
    "    cadaDataset.loc[ cadaDataset['Age'] > 64, 'Age'] = 4 \n",
    "    cadaDataset['Age'] = cadaDataset['Age'].astype(int)\n",
    "\n",
    "    # Transformamos el atributo Fare (tarifa) en un rango de 0 a 3\n",
    "    cadaDataset.loc[ cadaDataset['Fare'] <= 7.91, 'Fare'] = 0\n",
    "    cadaDataset.loc[(cadaDataset['Fare'] > 7.91)   & (cadaDataset['Fare'] <= 14.454), 'Fare'] = 1\n",
    "    cadaDataset.loc[(cadaDataset['Fare'] > 14.454) & (cadaDataset['Fare'] <= 31), 'Fare']     = 2\n",
    "    cadaDataset.loc[ cadaDataset['Fare'] > 31, 'Fare'] = 3\n",
    "    cadaDataset['Fare'] = cadaDataset['Fare'].astype(int)\n"
   ]
  },
  {
   "cell_type": "code",
   "execution_count": 262,
   "metadata": {},
   "outputs": [
    {
     "data": {
      "text/html": [
       "<div>\n",
       "<style scoped>\n",
       "    .dataframe tbody tr th:only-of-type {\n",
       "        vertical-align: middle;\n",
       "    }\n",
       "\n",
       "    .dataframe tbody tr th {\n",
       "        vertical-align: top;\n",
       "    }\n",
       "\n",
       "    .dataframe thead th {\n",
       "        text-align: right;\n",
       "    }\n",
       "</style>\n",
       "<table border=\"1\" class=\"dataframe\">\n",
       "  <thead>\n",
       "    <tr style=\"text-align: right;\">\n",
       "      <th></th>\n",
       "      <th>Survived</th>\n",
       "      <th>Pclass</th>\n",
       "      <th>Sex</th>\n",
       "      <th>Age</th>\n",
       "      <th>SibSp</th>\n",
       "      <th>Parch</th>\n",
       "      <th>Fare</th>\n",
       "      <th>Embarked</th>\n",
       "      <th>enFamilia</th>\n",
       "      <th>rangoEdad</th>\n",
       "    </tr>\n",
       "  </thead>\n",
       "  <tbody>\n",
       "    <tr>\n",
       "      <th>0</th>\n",
       "      <td>0</td>\n",
       "      <td>3</td>\n",
       "      <td>1</td>\n",
       "      <td>1</td>\n",
       "      <td>1</td>\n",
       "      <td>0</td>\n",
       "      <td>0</td>\n",
       "      <td>2</td>\n",
       "      <td>1</td>\n",
       "      <td>0</td>\n",
       "    </tr>\n",
       "    <tr>\n",
       "      <th>1</th>\n",
       "      <td>1</td>\n",
       "      <td>1</td>\n",
       "      <td>0</td>\n",
       "      <td>2</td>\n",
       "      <td>1</td>\n",
       "      <td>0</td>\n",
       "      <td>3</td>\n",
       "      <td>0</td>\n",
       "      <td>1</td>\n",
       "      <td>0</td>\n",
       "    </tr>\n",
       "    <tr>\n",
       "      <th>2</th>\n",
       "      <td>1</td>\n",
       "      <td>3</td>\n",
       "      <td>0</td>\n",
       "      <td>1</td>\n",
       "      <td>0</td>\n",
       "      <td>0</td>\n",
       "      <td>1</td>\n",
       "      <td>2</td>\n",
       "      <td>0</td>\n",
       "      <td>0</td>\n",
       "    </tr>\n",
       "    <tr>\n",
       "      <th>3</th>\n",
       "      <td>1</td>\n",
       "      <td>1</td>\n",
       "      <td>0</td>\n",
       "      <td>2</td>\n",
       "      <td>1</td>\n",
       "      <td>0</td>\n",
       "      <td>3</td>\n",
       "      <td>2</td>\n",
       "      <td>1</td>\n",
       "      <td>0</td>\n",
       "    </tr>\n",
       "    <tr>\n",
       "      <th>4</th>\n",
       "      <td>0</td>\n",
       "      <td>3</td>\n",
       "      <td>1</td>\n",
       "      <td>2</td>\n",
       "      <td>0</td>\n",
       "      <td>0</td>\n",
       "      <td>1</td>\n",
       "      <td>2</td>\n",
       "      <td>0</td>\n",
       "      <td>0</td>\n",
       "    </tr>\n",
       "  </tbody>\n",
       "</table>\n",
       "</div>"
      ],
      "text/plain": [
       "   Survived  Pclass  Sex  Age  SibSp  Parch  Fare  Embarked  enFamilia  \\\n",
       "0         0       3    1    1      1      0     0         2          1   \n",
       "1         1       1    0    2      1      0     3         0          1   \n",
       "2         1       3    0    1      0      0     1         2          0   \n",
       "3         1       1    0    2      1      0     3         2          1   \n",
       "4         0       3    1    2      0      0     1         2          0   \n",
       "\n",
       "   rangoEdad  \n",
       "0          0  \n",
       "1          0  \n",
       "2          0  \n",
       "3          0  \n",
       "4          0  "
      ]
     },
     "execution_count": 262,
     "metadata": {},
     "output_type": "execute_result"
    }
   ],
   "source": [
    "train.head(5)"
   ]
  },
  {
   "cell_type": "code",
   "execution_count": 263,
   "metadata": {},
   "outputs": [
    {
     "data": {
      "text/html": [
       "<div>\n",
       "<style scoped>\n",
       "    .dataframe tbody tr th:only-of-type {\n",
       "        vertical-align: middle;\n",
       "    }\n",
       "\n",
       "    .dataframe tbody tr th {\n",
       "        vertical-align: top;\n",
       "    }\n",
       "\n",
       "    .dataframe thead th {\n",
       "        text-align: right;\n",
       "    }\n",
       "</style>\n",
       "<table border=\"1\" class=\"dataframe\">\n",
       "  <thead>\n",
       "    <tr style=\"text-align: right;\">\n",
       "      <th></th>\n",
       "      <th>Pclass</th>\n",
       "      <th>Sex</th>\n",
       "      <th>Age</th>\n",
       "      <th>SibSp</th>\n",
       "      <th>Parch</th>\n",
       "      <th>Fare</th>\n",
       "      <th>Embarked</th>\n",
       "      <th>enFamilia</th>\n",
       "      <th>rangoEdad</th>\n",
       "    </tr>\n",
       "  </thead>\n",
       "  <tbody>\n",
       "    <tr>\n",
       "      <th>0</th>\n",
       "      <td>3</td>\n",
       "      <td>1</td>\n",
       "      <td>2</td>\n",
       "      <td>0</td>\n",
       "      <td>0</td>\n",
       "      <td>0</td>\n",
       "      <td>1</td>\n",
       "      <td>0</td>\n",
       "      <td>0</td>\n",
       "    </tr>\n",
       "    <tr>\n",
       "      <th>1</th>\n",
       "      <td>3</td>\n",
       "      <td>0</td>\n",
       "      <td>2</td>\n",
       "      <td>1</td>\n",
       "      <td>0</td>\n",
       "      <td>0</td>\n",
       "      <td>2</td>\n",
       "      <td>1</td>\n",
       "      <td>0</td>\n",
       "    </tr>\n",
       "    <tr>\n",
       "      <th>2</th>\n",
       "      <td>2</td>\n",
       "      <td>1</td>\n",
       "      <td>3</td>\n",
       "      <td>0</td>\n",
       "      <td>0</td>\n",
       "      <td>1</td>\n",
       "      <td>1</td>\n",
       "      <td>0</td>\n",
       "      <td>0</td>\n",
       "    </tr>\n",
       "    <tr>\n",
       "      <th>3</th>\n",
       "      <td>3</td>\n",
       "      <td>1</td>\n",
       "      <td>1</td>\n",
       "      <td>0</td>\n",
       "      <td>0</td>\n",
       "      <td>1</td>\n",
       "      <td>2</td>\n",
       "      <td>0</td>\n",
       "      <td>0</td>\n",
       "    </tr>\n",
       "    <tr>\n",
       "      <th>4</th>\n",
       "      <td>3</td>\n",
       "      <td>0</td>\n",
       "      <td>1</td>\n",
       "      <td>1</td>\n",
       "      <td>1</td>\n",
       "      <td>1</td>\n",
       "      <td>2</td>\n",
       "      <td>1</td>\n",
       "      <td>0</td>\n",
       "    </tr>\n",
       "  </tbody>\n",
       "</table>\n",
       "</div>"
      ],
      "text/plain": [
       "   Pclass  Sex  Age  SibSp  Parch  Fare  Embarked  enFamilia  rangoEdad\n",
       "0       3    1    2      0      0     0         1          0          0\n",
       "1       3    0    2      1      0     0         2          1          0\n",
       "2       2    1    3      0      0     1         1          0          0\n",
       "3       3    1    1      0      0     1         2          0          0\n",
       "4       3    0    1      1      1     1         2          1          0"
      ]
     },
     "execution_count": 263,
     "metadata": {},
     "output_type": "execute_result"
    }
   ],
   "source": [
    "test.head(5)"
   ]
  },
  {
   "cell_type": "markdown",
   "metadata": {},
   "source": [
    "<p style=\"text-align: justify;\">Junto con los atributos originales seleccionados, las nuevas variables creadas <strong>enFamilia</strong> y <strong>rangoEdad</strong> se utilizar&aacute;n en el proceso de an&aacute;lisis de datos siguiente.</p>"
   ]
  },
  {
   "cell_type": "markdown",
   "metadata": {},
   "source": [
    "#### Generación de archivo de datos limpio"
   ]
  },
  {
   "cell_type": "code",
   "execution_count": 303,
   "metadata": {},
   "outputs": [],
   "source": [
    "train.to_csv(\"train_clean.csv\", index=False)\n",
    "test.to_csv(\"test_clean.csv\", index=False)"
   ]
  },
  {
   "cell_type": "markdown",
   "metadata": {},
   "source": [
    "## 4. Análisis de los datos\n",
    "\n"
   ]
  },
  {
   "cell_type": "markdown",
   "metadata": {},
   "source": [
    "<div style=\"background-color: #EDF7FF; border-color: #7C9DBF; border-left: 5px solid #7C9DBF; padding: 0.5em;\">\n",
    "<strong>4.1. Selección de los grupos de datos que se quieren analizar/comparar (planificación de los análisis a aplicar)</strong> \n",
    "</div>"
   ]
  },
  {
   "cell_type": "markdown",
   "metadata": {},
   "source": [
    "<p style=\"text-align: justify;\">A continuaci&oacute;n, se seleccionan los grupos dentro de nuestro conjunto de datos que pueden resultar interesantes para analizar y/o comparar. Compararemos basicamente cada una de las variables de nuestro conjunto de datos con la variable objetivo \"Survived\", porque nos interesa conocer que tan relacionadas están, ello conllevará a definir si tiene o no un gran impacto.</p>"
   ]
  },
  {
   "cell_type": "markdown",
   "metadata": {},
   "source": [
    "### Análisis de datos individuales"
   ]
  },
  {
   "cell_type": "markdown",
   "metadata": {},
   "source": [
    "#### 1. Clase del pasajero vs Supervivencia"
   ]
  },
  {
   "cell_type": "code",
   "execution_count": 221,
   "metadata": {},
   "outputs": [
    {
     "name": "stdout",
     "output_type": "stream",
     "text": [
      "   Pclass  Survived\n",
      "0       1  0.629630\n",
      "1       2  0.472826\n",
      "2       3  0.242363\n"
     ]
    }
   ],
   "source": [
    "print (train[['Pclass', 'Survived']].groupby(['Pclass'], as_index=False).mean())"
   ]
  },
  {
   "cell_type": "markdown",
   "metadata": {},
   "source": [
    "<p style=\"text-align: justify;\">- Se observa que los pasajeros perteneciente a la Primera Clase (Pclass = 1) fueron los que mayormente sobrevivieron.</p>"
   ]
  },
  {
   "cell_type": "markdown",
   "metadata": {},
   "source": [
    "#### 2. Sexo del pasajero vs Supervivencia"
   ]
  },
  {
   "cell_type": "code",
   "execution_count": 224,
   "metadata": {},
   "outputs": [
    {
     "name": "stdout",
     "output_type": "stream",
     "text": [
      "   Sex  Survived\n",
      "0    0  0.742038\n",
      "1    1  0.188908\n"
     ]
    }
   ],
   "source": [
    "print (train[[\"Sex\", \"Survived\"]].groupby(['Sex'], as_index=False).mean())"
   ]
  },
  {
   "cell_type": "markdown",
   "metadata": {},
   "source": [
    "<p style=\"text-align: justify;\">- Se observa que los pasajeros de sexo femenino (Sex = 0) fueron los que mayormente sobrevivieron.</p>"
   ]
  },
  {
   "cell_type": "markdown",
   "metadata": {},
   "source": [
    "#### 3. Pasajero viajaba solo o en Familia vs Supervivencia"
   ]
  },
  {
   "cell_type": "code",
   "execution_count": 265,
   "metadata": {},
   "outputs": [
    {
     "name": "stdout",
     "output_type": "stream",
     "text": [
      "   enFamilia  Survived\n",
      "0          0  0.303538\n",
      "1          1  0.505650\n"
     ]
    }
   ],
   "source": [
    "print (train[['enFamilia', 'Survived']].groupby(['enFamilia'], as_index=False).mean())"
   ]
  },
  {
   "cell_type": "markdown",
   "metadata": {},
   "source": [
    "<p style=\"text-align: justify;\">- Se observa que los pasajeros que viajaban solos (enFamilia = 1) fueron los que mayormente sobrevivieron.</p>"
   ]
  },
  {
   "cell_type": "markdown",
   "metadata": {},
   "source": [
    "#### 4. Puerto de Embarque vs Supervivencia"
   ]
  },
  {
   "cell_type": "code",
   "execution_count": 266,
   "metadata": {},
   "outputs": [
    {
     "name": "stdout",
     "output_type": "stream",
     "text": [
      "   Embarked  Survived\n",
      "0         0  0.553571\n",
      "1         1  0.389610\n",
      "2         2  0.339009\n"
     ]
    }
   ],
   "source": [
    "print (train[['Embarked', 'Survived']].groupby(['Embarked'], as_index=False).mean())"
   ]
  },
  {
   "cell_type": "markdown",
   "metadata": {},
   "source": [
    "<p style=\"text-align: justify;\">Recordemos que Embarked es:</p>\n",
    "<p style=\"text-align: justify;\">= 0 -&gt; \"C\" &oacute;&nbsp;<a title=\"Cherburgo-Octeville\" href=\"https://es.wikipedia.org/wiki/Cherburgo-Octeville\">Cherburgo</a><br />= 1&nbsp;-&gt; \"Q\" &oacute;&nbsp;<a class=\"mw-redirect\" title=\"Queenstown (Irlanda)\" href=\"https://es.wikipedia.org/wiki/Queenstown_(Irlanda)\">Queenstown</a><br />= 2 -&gt; \"S\" &oacute; <a title=\"Southampton\" href=\"https://es.wikipedia.org/wiki/Southampton\">Southampton</a></p>\n",
    "<p style=\"text-align: justify;\">- Se observa que los pasajeros que embarcaron en \"C\"&nbsp; (Embarked = 0) fueron los que mayormente sobrevivieron.</p>"
   ]
  },
  {
   "cell_type": "markdown",
   "metadata": {},
   "source": [
    "#### 5. Tarifa del ticket vs Supervivencia"
   ]
  },
  {
   "cell_type": "markdown",
   "metadata": {},
   "source": [
    "<p style=\"text-align: justify;\">Recordemos que los rangos de Tarifa para los tickets de embarque que se han contemplado son los siguientes:</p>\n",
    "<p><strong>Tarifa:</strong></p>\n",
    "<ul>\n",
    "<li>Fare &lt;= 7.91&nbsp; &nbsp; &nbsp; &nbsp; &nbsp; &nbsp; &nbsp; &nbsp; &nbsp;-&gt; 0</li>\n",
    "<li>Fare &gt; 7.91 &lt;= 14.454&nbsp; -&gt; 1</li>\n",
    "<li>Fare &gt;&nbsp;14.454&nbsp; &lt;= 31&nbsp; &nbsp; -&gt; 2</li>\n",
    "<li>Fare &gt; 31&nbsp; &nbsp; &nbsp; &nbsp; &nbsp; &nbsp; &nbsp; &nbsp; &nbsp; &nbsp; &nbsp; -&gt; 3</li>\n",
    "</ul>"
   ]
  },
  {
   "cell_type": "code",
   "execution_count": 267,
   "metadata": {},
   "outputs": [
    {
     "name": "stdout",
     "output_type": "stream",
     "text": [
      "   Fare  Survived\n",
      "0     0  0.197309\n",
      "1     1  0.308756\n",
      "2     2  0.445415\n",
      "3     3  0.581081\n"
     ]
    }
   ],
   "source": [
    "print (train[['Fare', 'Survived']].groupby(['Fare'], as_index=False).mean())"
   ]
  },
  {
   "cell_type": "markdown",
   "metadata": {},
   "source": [
    "<p style=\"text-align: justify;\">- Se observa que los pasajeros que pagaron una mayor tarifa por su ticket de embarque (Fare = 2 y 3) fueron los que mayormente sobrevivieron.</p>"
   ]
  },
  {
   "cell_type": "markdown",
   "metadata": {},
   "source": [
    "#### 6. Edad del Pasajero vs Supervivencia"
   ]
  },
  {
   "cell_type": "markdown",
   "metadata": {},
   "source": [
    "<p style=\"text-align: justify;\">Recordemos que los rangos de edad de los pasajeros que se han contemplado son los siguientes:</p>\n",
    "<p style=\"text-align: justify;\"><strong>Edad:</strong></p>\n",
    "<ul style=\"list-style-type: square;\">\n",
    "<li style=\"text-align: justify;\">Age &lt;= 16 a&ntilde;os&nbsp; &nbsp; -&gt; 0</li>\n",
    "<li style=\"text-align: justify;\">Age &gt; 16 y &lt;= 32 -&gt; 1</li>\n",
    "<li style=\"text-align: justify;\">Age &gt; 32 y &lt;= 48 -&gt; 2</li>\n",
    "<li style=\"text-align: justify;\">Age &gt; 48 y &lt;= 64 -&gt; 3</li>\n",
    "<li style=\"text-align: justify;\">Age &gt; 64&nbsp; &nbsp; &nbsp; &nbsp; &nbsp; &nbsp; &nbsp; -&gt; 4</li>"
   ]
  },
  {
   "cell_type": "code",
   "execution_count": 268,
   "metadata": {},
   "outputs": [
    {
     "name": "stdout",
     "output_type": "stream",
     "text": [
      "   Age  Survived\n",
      "0    0  0.540541\n",
      "1    1  0.357143\n",
      "2    2  0.360902\n",
      "3    3  0.434783\n",
      "4    4  0.090909\n"
     ]
    }
   ],
   "source": [
    "print (train[['Age', 'Survived']].groupby(['Age'], as_index=False).mean())"
   ]
  },
  {
   "cell_type": "markdown",
   "metadata": {},
   "source": [
    "<p style=\"text-align: justify;\">- Se observa que los pasajeros que por edad sobrevivieron, fueron los ni&ntilde;os mayores menores de 16 a&ntilde;os y los adultos entre 49 y 64 a&ntilde;os (Fare = 0 y 3) fueron los que mayormente sobrevivieron.</p>"
   ]
  },
  {
   "cell_type": "markdown",
   "metadata": {},
   "source": [
    "### Análisis de datos agrupados"
   ]
  },
  {
   "cell_type": "markdown",
   "metadata": {},
   "source": [
    "#### 1. Agrupamiento: Clase, Sexo y rango de Edad"
   ]
  },
  {
   "cell_type": "markdown",
   "metadata": {},
   "source": [
    "<p style=\"text-align: justify;\">Nos interesa comparar la tasa de supervivencia con las siguientes tres variables:</p>\n",
    "<ul>\n",
    "<li style=\"text-align: justify;\">Clase</li>\n",
    "<li style=\"text-align: justify;\">Sexo</li>\n",
    "<li style=\"text-align: justify;\">Rango de edad</li>\n",
    "</ul>"
   ]
  },
  {
   "cell_type": "code",
   "execution_count": 272,
   "metadata": {},
   "outputs": [
    {
     "data": {
      "text/html": [
       "<div>\n",
       "<style scoped>\n",
       "    .dataframe tbody tr th:only-of-type {\n",
       "        vertical-align: middle;\n",
       "    }\n",
       "\n",
       "    .dataframe tbody tr th {\n",
       "        vertical-align: top;\n",
       "    }\n",
       "\n",
       "    .dataframe thead th {\n",
       "        text-align: right;\n",
       "    }\n",
       "</style>\n",
       "<table border=\"1\" class=\"dataframe\">\n",
       "  <thead>\n",
       "    <tr style=\"text-align: right;\">\n",
       "      <th></th>\n",
       "      <th></th>\n",
       "      <th></th>\n",
       "      <th>Sobrevivieron</th>\n",
       "      <th>Num</th>\n",
       "    </tr>\n",
       "    <tr>\n",
       "      <th>Pclass</th>\n",
       "      <th>Sex</th>\n",
       "      <th>rangoEdad</th>\n",
       "      <th></th>\n",
       "      <th></th>\n",
       "    </tr>\n",
       "  </thead>\n",
       "  <tbody>\n",
       "    <tr>\n",
       "      <th rowspan=\"4\" valign=\"top\">1</th>\n",
       "      <th rowspan=\"2\" valign=\"top\">0</th>\n",
       "      <th>0</th>\n",
       "      <td>0.978022</td>\n",
       "      <td>91</td>\n",
       "    </tr>\n",
       "    <tr>\n",
       "      <th>1</th>\n",
       "      <td>0.666667</td>\n",
       "      <td>3</td>\n",
       "    </tr>\n",
       "    <tr>\n",
       "      <th rowspan=\"2\" valign=\"top\">1</th>\n",
       "      <th>0</th>\n",
       "      <td>0.347458</td>\n",
       "      <td>118</td>\n",
       "    </tr>\n",
       "    <tr>\n",
       "      <th>1</th>\n",
       "      <td>1.000000</td>\n",
       "      <td>4</td>\n",
       "    </tr>\n",
       "    <tr>\n",
       "      <th rowspan=\"4\" valign=\"top\">2</th>\n",
       "      <th rowspan=\"2\" valign=\"top\">0</th>\n",
       "      <th>0</th>\n",
       "      <td>0.909091</td>\n",
       "      <td>66</td>\n",
       "    </tr>\n",
       "    <tr>\n",
       "      <th>1</th>\n",
       "      <td>1.000000</td>\n",
       "      <td>10</td>\n",
       "    </tr>\n",
       "    <tr>\n",
       "      <th rowspan=\"2\" valign=\"top\">1</th>\n",
       "      <th>0</th>\n",
       "      <td>0.080808</td>\n",
       "      <td>99</td>\n",
       "    </tr>\n",
       "    <tr>\n",
       "      <th>1</th>\n",
       "      <td>1.000000</td>\n",
       "      <td>9</td>\n",
       "    </tr>\n",
       "    <tr>\n",
       "      <th rowspan=\"4\" valign=\"top\">3</th>\n",
       "      <th rowspan=\"2\" valign=\"top\">0</th>\n",
       "      <th>0</th>\n",
       "      <td>0.481818</td>\n",
       "      <td>110</td>\n",
       "    </tr>\n",
       "    <tr>\n",
       "      <th>1</th>\n",
       "      <td>0.558824</td>\n",
       "      <td>34</td>\n",
       "    </tr>\n",
       "    <tr>\n",
       "      <th rowspan=\"2\" valign=\"top\">1</th>\n",
       "      <th>0</th>\n",
       "      <td>0.119874</td>\n",
       "      <td>317</td>\n",
       "    </tr>\n",
       "    <tr>\n",
       "      <th>1</th>\n",
       "      <td>0.300000</td>\n",
       "      <td>30</td>\n",
       "    </tr>\n",
       "  </tbody>\n",
       "</table>\n",
       "</div>"
      ],
      "text/plain": [
       "                      Sobrevivieron  Num\n",
       "Pclass Sex rangoEdad                    \n",
       "1      0   0               0.978022   91\n",
       "           1               0.666667    3\n",
       "       1   0               0.347458  118\n",
       "           1               1.000000    4\n",
       "2      0   0               0.909091   66\n",
       "           1               1.000000   10\n",
       "       1   0               0.080808   99\n",
       "           1               1.000000    9\n",
       "3      0   0               0.481818  110\n",
       "           1               0.558824   34\n",
       "       1   0               0.119874  317\n",
       "           1               0.300000   30"
      ]
     },
     "execution_count": 272,
     "metadata": {},
     "output_type": "execute_result"
    }
   ],
   "source": [
    "conjunto_datos = pd.concat(\n",
    "    [train.groupby(['Pclass', 'Sex', 'rangoEdad'])['Survived'].mean(),\n",
    "     train.groupby(['Pclass', 'Sex', 'rangoEdad'])['Survived'].count()],\n",
    "    axis=1)\n",
    "conjunto_datos.columns = ['Sobrevivieron', 'Num']\n",
    "conjunto_datos"
   ]
  },
  {
   "cell_type": "markdown",
   "metadata": {},
   "source": [
    "<p style=\"text-align: justify;\">Se observa en general, que en las tres clases sobrevivieron m&aacute;s mujeres y ni&ntilde;os que adultos hombres.</p>"
   ]
  },
  {
   "cell_type": "markdown",
   "metadata": {},
   "source": [
    "#### 2. Agrupamiento: Sexo y Tarifa"
   ]
  },
  {
   "cell_type": "markdown",
   "metadata": {},
   "source": [
    "Habrá sido importante esta relacion? Revisemos la tarifa promedio pagada por cada sexo (0: mujer, 1:hombre):"
   ]
  },
  {
   "cell_type": "code",
   "execution_count": 275,
   "metadata": {},
   "outputs": [
    {
     "data": {
      "text/plain": [
       "Sex\n",
       "0    1.882166\n",
       "1    1.299827\n",
       "Name: Fare, dtype: float64"
      ]
     },
     "execution_count": 275,
     "metadata": {},
     "output_type": "execute_result"
    }
   ],
   "source": [
    "tarifa_por_sexo = train.groupby('Sex')['Fare'].mean()\n",
    "tarifa_por_sexo"
   ]
  },
  {
   "cell_type": "markdown",
   "metadata": {},
   "source": [
    "<p>Se puede observar que las mujeres pagaron una tarifa superior por su ticket de embarque que los hombres.</p>"
   ]
  },
  {
   "cell_type": "markdown",
   "metadata": {},
   "source": [
    "#### 3. Agrupamiento: Clase, Sexo y Tarifa"
   ]
  },
  {
   "cell_type": "markdown",
   "metadata": {},
   "source": [
    "<p>Hemos observado que las mujeres pagaron por su ticket de embarque más que los hombres, pero a continuaci&oacute;n veremos si la clase del ticket fue ifluyente para que sea asi.</p>"
   ]
  },
  {
   "cell_type": "code",
   "execution_count": 277,
   "metadata": {},
   "outputs": [
    {
     "data": {
      "text/plain": [
       "Pclass  Sex\n",
       "1       0      2.914894\n",
       "        1      2.500000\n",
       "2       0      1.736842\n",
       "        1      1.481481\n",
       "3       0      1.284722\n",
       "        1      0.821326\n",
       "Name: Fare, dtype: float64"
      ]
     },
     "execution_count": 277,
     "metadata": {},
     "output_type": "execute_result"
    }
   ],
   "source": [
    "tarifa_por_clase_sexo = train.groupby(['Pclass', 'Sex'])['Fare'].mean()\n",
    "tarifa_por_clase_sexo"
   ]
  },
  {
   "cell_type": "markdown",
   "metadata": {},
   "source": [
    "-Se observa que independiente de la clase, las mujeres pagaron una tarifa superior a los hombres."
   ]
  },
  {
   "cell_type": "markdown",
   "metadata": {},
   "source": [
    "<div style=\"background-color: #EDF7FF; border-color: #7C9DBF; border-left: 5px solid #7C9DBF; padding: 0.5em;\">\n",
    "<strong>4.2. Comprobación de la normalidad y homogeneidad de la varianza</strong> \n",
    "</div>"
   ]
  },
  {
   "cell_type": "code",
   "execution_count": null,
   "metadata": {},
   "outputs": [],
   "source": [
    "import scipy\n",
    "resultado_anderson = scipy.stats.anderson(train)\n",
    "print(resultado_anderson)"
   ]
  },
  {
   "cell_type": "markdown",
   "metadata": {},
   "source": [
    "<p style=\"text-align: justify;\">Para verificar que los valores que toman nuestras variables cuantitativas dentro de nuestro conjunto de datos \"train\" provienen de una poblaci&oacute;n distribuida normalmente, reealizaremos la prueba de normalidad de Anderson-Darling.</p>\n",
    "<p style=\"text-align: justify;\">La salida de esta prueba de normalidad es comprobar que para cada ensayo, se obtiene un valor (p-valor) superior al valor pre-fijado de 0,05.&nbsp; De cumplirse esta condici&oacute;n, se concluiria que nuestras variables tienen una distribuci&oacute;n normal.</p>"
   ]
  },
  {
   "cell_type": "markdown",
   "metadata": {},
   "source": [
    "<div style=\"background-color: #EDF7FF; border-color: #7C9DBF; border-left: 5px solid #7C9DBF; padding: 0.5em;\">\n",
    "<strong>4.3. Aplicación de pruebas estadísticas para comparar los grupos de datos</strong> \n",
    "</div>"
   ]
  },
  {
   "cell_type": "markdown",
   "metadata": {},
   "source": [
    "<p style=\"text-align: justify;\">A continuaci&oacute;n vamos a generar &nbsp;un gr&aacute;fico de correlaci&oacute;n de las caracter&iacute;sticas para ver c&oacute;mo se relaciona una caracter&iacute;stica con la siguiente. Para hacerlo, utilizaremos el paquete gráfico llamado Seaborn que nos permite trazar mapas de calor de la siguiente manera:</p>"
   ]
  },
  {
   "cell_type": "code",
   "execution_count": 270,
   "metadata": {},
   "outputs": [
    {
     "data": {
      "text/plain": [
       "<matplotlib.axes._subplots.AxesSubplot at 0x2445b5e3a90>"
      ]
     },
     "execution_count": 270,
     "metadata": {},
     "output_type": "execute_result"
    },
    {
     "data": {
      "image/png": "[encoded data removed]",
      "text/plain": [
       "<Figure size 1008x864 with 2 Axes>"
      ]
     },
     "metadata": {},
     "output_type": "display_data"
    }
   ],
   "source": [
    "import seaborn as sns\n",
    "\n",
    "mapacolor = plt.cm.RdBu\n",
    "plt.figure(figsize=(14,12))\n",
    "plt.title('Correlación de las variables - Pearson', y=1.05, size=15)\n",
    "sns.heatmap(train.astype(float).corr(),linewidths=0.1,vmax=1.0, \n",
    "            square=True, cmap=mapacolor, linecolor='white', annot=True)"
   ]
  },
  {
   "cell_type": "markdown",
   "metadata": {},
   "source": [
    "<p style=\"text-align: justify;\">El gr&aacute;fico anterior, de Correlaci&oacute;n de Pearson, nos permite visualizar que no hay demasiadas caracter&iacute;sticas fuertemente correlacionadas entre s&iacute;. Esto es bueno desde el punto de vista que las variables de nuestro conjunto de datos (de train) no poseen mucha informaci&oacute;n redundante o poco relevante, sino datos unicos, entonces ser&aacute; un buen conjunto de entrenamiento para ser usado posteriormente en modelos de machine learning.</p>"
   ]
  },
  {
   "cell_type": "markdown",
   "metadata": {},
   "source": [
    "## 5. Representación de los resultados a partir de tablas y gráficas\n",
    "\n"
   ]
  },
  {
   "cell_type": "markdown",
   "metadata": {},
   "source": [
    "A continuación se visualiza graficamente los resultados obtenidos a partir del analisis individual y grupal de las variables anteriormente evaluadas."
   ]
  },
  {
   "cell_type": "markdown",
   "metadata": {},
   "source": [
    "#### 1. Gráfico de Agrupamiento: Clase, Sexo y rango de Edad"
   ]
  },
  {
   "cell_type": "code",
   "execution_count": 274,
   "metadata": {},
   "outputs": [
    {
     "data": {
      "image/png": "[encoded data removed]",
      "text/plain": [
       "<Figure size 864x576 with 6 Axes>"
      ]
     },
     "metadata": {},
     "output_type": "display_data"
    }
   ],
   "source": [
    "g = sns.factorplot(\n",
    "    x='rangoEdad', \n",
    "    y='Survived', \n",
    "    col='Pclass',\n",
    "    row='Sex',\n",
    "    data=train,\n",
    "    margin_titles=True, \n",
    "    kind=\"bar\", \n",
    "    ci=None)"
   ]
  },
  {
   "cell_type": "markdown",
   "metadata": {},
   "source": [
    "<p style=\"text-align: justify;\">Efectivamente, en las tres clases sobrevivieron m&aacute;s mujeres y ni&ntilde;os que adultos hombres.</p>"
   ]
  },
  {
   "cell_type": "markdown",
   "metadata": {},
   "source": [
    "#### 2. Gráfico de Agrupamiento: Sexo y Tarifa"
   ]
  },
  {
   "cell_type": "markdown",
   "metadata": {},
   "source": [
    "<p style=\"text-align: justify;\">Revisemos la tarifa promedio pagada por cada sexo:</p>"
   ]
  },
  {
   "cell_type": "code",
   "execution_count": 280,
   "metadata": {},
   "outputs": [
    {
     "data": {
      "text/plain": [
       "Text(0,0.5,'Tarifa Promedio')"
      ]
     },
     "execution_count": 280,
     "metadata": {},
     "output_type": "execute_result"
    },
    {
     "data": {
      "image/png": "[encoded data removed]",
      "text/plain": [
       "<Figure size 432x288 with 1 Axes>"
      ]
     },
     "metadata": {},
     "output_type": "display_data"
    }
   ],
   "source": [
    "ax = tarifa_por_sexo.plot.bar(title='Tarifa Promedio y Sexo')\n",
    "ax.set_ylabel('Tarifa Promedio')"
   ]
  },
  {
   "cell_type": "markdown",
   "metadata": {},
   "source": [
    "<p style=\"text-align: justify;\">Efectivamente, se grafica que los pasajeros del sexo femenio (Sex = 0) pagaron una tarifa mayor que la de los hombres. El por que escapa al an&aacute;lisis de esta pr&aacute;ctica.</p>"
   ]
  },
  {
   "cell_type": "markdown",
   "metadata": {},
   "source": [
    "#### 3. Gráfico de Agrupamiento: Clase, Sexo y Tarifa"
   ]
  },
  {
   "cell_type": "code",
   "execution_count": 278,
   "metadata": {},
   "outputs": [
    {
     "data": {
      "text/plain": [
       "Text(0,0.5,'Tarifa Promedio')"
      ]
     },
     "execution_count": 278,
     "metadata": {},
     "output_type": "execute_result"
    },
    {
     "data": {
      "image/png": "[encoded data removed]",
      "text/plain": [
       "<Figure size 1152x288 with 1 Axes>"
      ]
     },
     "metadata": {},
     "output_type": "display_data"
    }
   ],
   "source": [
    "ax = tarifa_por_clase_sexo.plot.bar(figsize=(16,4), title='Tarifa Promedio por Clase y Sexo')\n",
    "ax.set_ylabel('Tarifa Promedio')"
   ]
  },
  {
   "cell_type": "markdown",
   "metadata": {},
   "source": [
    "<p style=\"text-align: justify;\">En el grafico de barras anterior, se observa que la barra azul representa el promedio de tarifa pagada por las mujeres en Primera clase, la barra verde en Segunda clase y la barra morada en Tercera clase, en relacion a la tarifa promedio que pagaron los hombre en las mismas clases.</p>"
   ]
  },
  {
   "cell_type": "markdown",
   "metadata": {},
   "source": [
    "## 6. Conclusiones\n",
    "<ol>\n",
    "<li style=\"text-align: justify;\">Se han realizado tareas de limpieza y validaci&oacute;n de datos sobre el dataset Titanic (train y test, respectivamente).&nbsp; Operaciones tales como: correeccion de valores en cero o nulos, transformacion de variables categoricas a numericas, creacion de nuevas variables y deteccion de outliers.</li>\n",
    "<li style=\"text-align: justify;\">Con respecto al analisis de datos, se ha observado&nbsp; la importaancia de las variables con respecto a la variable objetivo \"Supervivencia\".&nbsp; Asi:\n",
    "<ul>\n",
    "<li>Analizando los tres factores combinados (Clase, Sexo y Rango de edad), nos reporta los resultados esperados. Se puede observar que en las tres clases del barco las mujeres presentan una tasa de supervivencia mayor a la de los hombres, no interesaba su Clase, ser mujer fue m&aacute;s importante que pobre o rica.</li>\n",
    "<li>Los ni&ntilde;os tambien fueron prioridad, por tanto se puede concluir que mujeres y ni&ntilde;os son los dos principales pasajeros que tuvieron prioridad para ser salvados.</li>\n",
    "<li>Se comprueba asi que se aplic&oacute; el protocolo de&nbsp;\"mujeres y ni&ntilde;os primero\" durante las tareas de salvataje.</li>\n",
    "</ul>\n",
    "</li>\n",
    "<li style=\"text-align: justify;\">Graficamente se ha mostrado como cierto conjunto de variables incidieron en el hecho de que ciertos pasajeros sobrevivieran al hundimiento.</li>\n",
    "<li style=\"text-align: justify;\">Mediante el analisis de correlacion de Pearson, hemos observado que no hay demasiadas caractersticas fuertemente correlacionadas entre si. Esto es bueno desde el punto de vista que las variables de nuestro conjunto de datos (de train) no poseen mucha informacion redundante o poco relevante, sino datos unicos, entonces se trata de un buen conjunto de entrenamiento para ser usado posteriormente en modelos de machine learning.</li>\n",
    "<li style=\"text-align: justify;\">Se han generado los archivos<strong> test_clean.csv</strong> y <strong>test_clean.csv</strong> que serviran como conjunto de datos para ser utilizados como entrada en cualquier modelo de clasificaci&oacute;n (p.e. Arboles de Desici&oacute;n), a fin de predecir con la mayor precision posible la tasa de sobrevivencia.</li>\n",
    "</ol>"
   ]
  }
 ],
 "metadata": {
  "celltoolbar": "Raw Cell Format",
  "kernelspec": {
   "display_name": "Python 3",
   "language": "python",
   "name": "python3"
  },
  "language_info": {
   "codemirror_mode": {
    "name": "ipython",
    "version": 3
   },
   "file_extension": ".py",
   "mimetype": "text/x-python",
   "name": "python",
   "nbconvert_exporter": "python",
   "pygments_lexer": "ipython3",
   "version": "3.5.5"
  }
 },
 "nbformat": 4,
 "nbformat_minor": 2
}
